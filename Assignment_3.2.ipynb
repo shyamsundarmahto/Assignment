{
 "cells": [
  {
   "cell_type": "markdown",
   "id": "2b68b4d3-400b-4d4f-8a53-3bc7617aba0b",
   "metadata": {},
   "source": [
    "# Q1. Create a python program to sort the given list of tuples based on integer value using a lambda function. \n",
    "### [('Sachin Tendulkar', 34357), ('Ricky Ponting', 27483), ('Jack Kallis', 25534), ('Virat Kohli', 24936)]"
   ]
  },
  {
   "cell_type": "code",
   "execution_count": 3,
   "id": "8c458049-c246-4490-a495-59035b52706f",
   "metadata": {},
   "outputs": [
    {
     "name": "stdout",
     "output_type": "stream",
     "text": [
      "('Jack Kallis', 25534)\n",
      "('Ricky Ponting', 27483)\n",
      "('Sachin Tendulkar', 34357)\n",
      "('Virat Kohli', 24936)\n"
     ]
    }
   ],
   "source": [
    "# List of tuples\n",
    "l=[('Sachin Tendulkar', 34357), ('Ricky Ponting', 27483), ('Jack Kallis', 25534), ('Virat Kohli', 24936)]\n",
    "\n",
    "# Sorting list based on the first element of each tuple using a lambda function\n",
    "sorted_l = sorted(l, key=lambda x: x[0])\n",
    "\n",
    "# Printing the sorted list\n",
    "for item in sorted_l:\n",
    "    print(item)\n"
   ]
  },
  {
   "cell_type": "markdown",
   "id": "af6ff59f-2c5e-4484-8598-1b557efd7500",
   "metadata": {},
   "source": [
    "# Q2. Write a Python Program to find the squares of all the numbers in the given list of integers using lambda and map functions.\n",
    "### [1, 2, 3, 4, 5, 6, 7, 8, 9, 10]\n",
    "### ans\n",
    "#### The squares of all the numbers in the given list of integers using lambda and map functions are given below:"
   ]
  },
  {
   "cell_type": "code",
   "execution_count": 5,
   "id": "28884aeb-9bbe-4a8b-ba3c-baa2d46f37d0",
   "metadata": {},
   "outputs": [
    {
     "data": {
      "text/plain": [
       "[1, 4, 9, 16, 25, 36, 49, 64, 81, 100]"
      ]
     },
     "execution_count": 5,
     "metadata": {},
     "output_type": "execute_result"
    }
   ],
   "source": [
    "l=[1,2,3,4,5,6,7,8,9,10]\n",
    "list(map(lambda x:x**2,l))"
   ]
  },
  {
   "cell_type": "markdown",
   "id": "642b0372-ae66-432d-b71b-de41c7a348e9",
   "metadata": {},
   "source": [
    "# Q3. Write a python program to convert the given list of integers into a tuple of strings. Use map and lambda functions Given String: [1, 2, 3, 4, 5, 6, 7, 8, 9, 10] Expected output: ('1', '2', '3', '4', '5', '6', '7', '8', '9', '10')\n",
    "\n",
    "### ans\n",
    "### The python program to convert the given list of integers into a tuple of strings by using lambda and map functions are given below:"
   ]
  },
  {
   "cell_type": "code",
   "execution_count": 6,
   "id": "a261f4e5-2b29-4c5c-b9c0-97b8e8abea03",
   "metadata": {},
   "outputs": [
    {
     "data": {
      "text/plain": [
       "['1', '2', '3', '4', '5', '6', '7', '8', '9', '10']"
      ]
     },
     "execution_count": 6,
     "metadata": {},
     "output_type": "execute_result"
    }
   ],
   "source": [
    "l=[1,2,3,4,5,6,7,8,9,10]\n",
    "list(map(lambda x:str(x),l))"
   ]
  },
  {
   "cell_type": "markdown",
   "id": "cf4e5bb4-1b91-4bb1-b870-10d0229eab1c",
   "metadata": {},
   "source": [
    "# Q4.  Write a python program using reduce function to compute the product of a list containing numbers from 1 to 25.\n",
    "\n",
    "### ans\n",
    "### Using reduce function to compute the product of a list containing numbers from 1 to 25 are given below:"
   ]
  },
  {
   "cell_type": "code",
   "execution_count": 8,
   "id": "e50b6ef8-dfef-4b81-b4ba-de6558d11c4d",
   "metadata": {},
   "outputs": [
    {
     "data": {
      "text/plain": [
       "15511210043330985984000000"
      ]
     },
     "execution_count": 8,
     "metadata": {},
     "output_type": "execute_result"
    }
   ],
   "source": [
    "from functools import reduce\n",
    "l=[1,2,3,4,5,6,7,8,9,10,11,12,13,14,15,16,17,18,19,20,21,22,23,24,25]\n",
    "\n",
    "#Product of all the elements in l are\n",
    "reduce(lambda x,y:x*y,l)\n"
   ]
  },
  {
   "cell_type": "markdown",
   "id": "5f844072-b0e3-4a02-9f61-ae8fba18f84a",
   "metadata": {},
   "source": [
    "# Q5. Write a python program to filter the numbers in a given list that are divisible by 2 and 3 using the filter function. [2, 3, 6, 9, 27, 60, 90, 120, 55, 46]\n",
    "### ans\n",
    "### The python program to filter the numbers in a given list that are divisible by 2 and 3 using the filter function are given below:"
   ]
  },
  {
   "cell_type": "code",
   "execution_count": 10,
   "id": "fa254948-af3b-4c2c-b802-61f56d34d703",
   "metadata": {},
   "outputs": [
    {
     "data": {
      "text/plain": [
       "[6, 60, 90, 120]"
      ]
     },
     "execution_count": 10,
     "metadata": {},
     "output_type": "execute_result"
    }
   ],
   "source": [
    "l=[2,3,6,9,27,60,90,120,55,46]\n",
    "list(filter(lambda x:x%2==0 and x%3==0,l))"
   ]
  },
  {
   "cell_type": "markdown",
   "id": "22f84fe5-e0f9-44c7-9e5d-8ea3995b9064",
   "metadata": {},
   "source": [
    "# Q6. Write a python program to find palindromes in the given list of strings using lambda and filter function. ['python', 'php', 'aba', 'radar', 'level']\n",
    "### ans\n",
    "### A palindrome is a word, phrase, number, or other sequence of characters that reads the same forward and backward (ignoring spaces, punctuation, and capitalization).\n",
    "  * For example, \"aba\", \"radar\", and \"level\" are palindromes because they read the same whether you read them left-to-right or right-to-left. \n",
    "  \n",
    "* The python program to find palindromes in the given list of strings using lambda and filter function are given below:"
   ]
  },
  {
   "cell_type": "code",
   "execution_count": 12,
   "id": "15a99aa5-c510-423d-aa83-64fcae9c6f02",
   "metadata": {},
   "outputs": [
    {
     "data": {
      "text/plain": [
       "['php', 'aba', 'radar', 'level']"
      ]
     },
     "execution_count": 12,
     "metadata": {},
     "output_type": "execute_result"
    }
   ],
   "source": [
    "l=['python', 'php', 'aba', 'radar', 'level']\n",
    "list(filter(lambda x:x==x[::-1],l))"
   ]
  },
  {
   "cell_type": "code",
   "execution_count": null,
   "id": "50e2ffa0-7e09-4200-987a-818e5ec51caf",
   "metadata": {},
   "outputs": [],
   "source": []
  }
 ],
 "metadata": {
  "kernelspec": {
   "display_name": "Python 3 (ipykernel)",
   "language": "python",
   "name": "python3"
  },
  "language_info": {
   "codemirror_mode": {
    "name": "ipython",
    "version": 3
   },
   "file_extension": ".py",
   "mimetype": "text/x-python",
   "name": "python",
   "nbconvert_exporter": "python",
   "pygments_lexer": "ipython3",
   "version": "3.10.8"
  }
 },
 "nbformat": 4,
 "nbformat_minor": 5
}
