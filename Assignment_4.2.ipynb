{
 "cells": [
  {
   "cell_type": "markdown",
   "id": "d7c86d83-4fd8-44b0-978e-a331ddaa2ce1",
   "metadata": {},
   "source": [
    "# Q1, Create a vehicle class with an init method having instance variables as name_of_vehicle, max_speed and average_of_vehicle.\n",
    "\n",
    "### ans"
   ]
  },
  {
   "cell_type": "code",
   "execution_count": 62,
   "id": "ce069aee-fd3a-4caa-94bf-b2c4e7c71a0b",
   "metadata": {},
   "outputs": [
    {
     "name": "stdout",
     "output_type": "stream",
     "text": [
      "Car has a maximum speed of 250 km/h.\n",
      "Bike has an average speed of 40 km/h.\n"
     ]
    }
   ],
   "source": [
    "class vehicle:\n",
    "    def __init__(self,name_of_vehicle, max_speed, average_of_vehicle):\n",
    "        self.name_of_vehicle=name_of_vehicle\n",
    "        self.max_speed=max_speed\n",
    "        self.average_of_vehicle=average_of_vehicle\n",
    "        \n",
    "# Creating instances of the Vehicle class\n",
    "car = vehicle(\"Car\", 250, 80)\n",
    "bike = vehicle(\"Bike\", 180, 40)\n",
    "\n",
    "# Accessing instance variables\n",
    "print(f\"{car.name_of_vehicle} has a maximum speed of {car.max_speed} km/h.\")\n",
    "print(f\"{bike.name_of_vehicle} has an average speed of {bike.average_of_vehicle} km/h.\")"
   ]
  },
  {
   "cell_type": "markdown",
   "id": "af2c9a61-c8e7-4c2c-8efc-99ae04b641cf",
   "metadata": {},
   "source": [
    "# Q2. Create a child class car from the vehicle class created in Que 1, which will inherit the vehicle class. Create a method named seating_capacity which takes capacity as an argument and returns the name of the vehicle and its seating capacity.\n",
    "\n",
    "### ans"
   ]
  },
  {
   "cell_type": "code",
   "execution_count": 63,
   "id": "8fd960ea-27af-4ffa-b00d-cee783c9925f",
   "metadata": {},
   "outputs": [
    {
     "name": "stdout",
     "output_type": "stream",
     "text": [
      "Generic Vehicle - Max Speed: 200, Average: 25\n",
      "Sedan - Seating Capacity: 5\n"
     ]
    }
   ],
   "source": [
    "class Vehicle:\n",
    "    def __init__(self, name_of_vehicle, max_speed, average_of_vehicle):\n",
    "        self.name_of_vehicle = name_of_vehicle\n",
    "        self.max_speed = max_speed\n",
    "        self.average_of_vehicle = average_of_vehicle\n",
    "\n",
    "class Car(Vehicle):\n",
    "    def seating_capacity(self, capacity):\n",
    "        return f\"{self.name_of_vehicle} - Seating Capacity: {capacity}\"\n",
    "\n",
    "# Creating instances of the classes\n",
    "vehicle1 = Vehicle(\"Generic Vehicle\", 200, 25)\n",
    "car1 = Car(\"Sedan\", 180, 30)\n",
    "\n",
    "# Testing the methods\n",
    "print(f\"{vehicle1.name_of_vehicle} - Max Speed: {vehicle1.max_speed}, Average: {vehicle1.average_of_vehicle}\")\n",
    "print(car1.seating_capacity(5))\n"
   ]
  },
  {
   "cell_type": "markdown",
   "id": "f4079c0a-2952-4776-b211-71c2727c2843",
   "metadata": {},
   "source": [
    "# Q3. What is multiple inheritance? Write a python code to demonstrate multiple inheritance.\n",
    "\n",
    "### ans\n",
    "\n",
    "Multiple Inheritance: Multiple inheritance allows a class to inherit from multiple base classes. The subclass inherits         attributes and methods from all the base classes."
   ]
  },
  {
   "cell_type": "code",
   "execution_count": 64,
   "id": "c938c866-e321-43a2-8629-6b9fe844407b",
   "metadata": {},
   "outputs": [],
   "source": [
    "class bird:\n",
    "    def speak1(self):\n",
    "        print(\" This is my bird.\")\n",
    "\n",
    "class mammal:\n",
    "    def speak2(self):\n",
    "        print(\" This is my mammal.\")\n",
    "\n",
    "class bat(bird, mammal):  # bat inherits from both bird and mammal\n",
    "    pass"
   ]
  },
  {
   "cell_type": "code",
   "execution_count": 65,
   "id": "07340ae5-c140-4075-b375-b19162098cba",
   "metadata": {},
   "outputs": [
    {
     "name": "stdout",
     "output_type": "stream",
     "text": [
      " This is my bird.\n",
      " This is my mammal.\n"
     ]
    }
   ],
   "source": [
    "# Driver's code\n",
    "liv_bird=bat()\n",
    "liv_bird.speak1()\n",
    "liv_bird.speak2()"
   ]
  },
  {
   "cell_type": "markdown",
   "id": "8b5bd118-712b-4ce9-bbda-5f5098daae38",
   "metadata": {},
   "source": [
    "# Q4. What are getter and setter in python? Create a class and create a getter and a setter method in this class.\n",
    "\n",
    "### ans\n",
    "* A getter method allows us to retrieve the value of an attribute. we use '@property' decorator to create a method that         behaves like a read only attributes.\n",
    "  * The getter method is called whenever you \"access\" the attribute.  \n",
    "  \n",
    "  \n",
    "* A setter method allows us to modify the value of an attribute. we can use the \"@attribute.setter\" decorator to create a       method that sets the attributes value.\n",
    "  * The setter method is called whenever we \"assign\" a value to the attribute."
   ]
  },
  {
   "cell_type": "code",
   "execution_count": 66,
   "id": "b6657b94-ba5f-46c5-b871-e16d7e079490",
   "metadata": {},
   "outputs": [],
   "source": [
    "class pwskills:\n",
    "    \n",
    "    def __init__(self, course_price , course_name):\n",
    "        self.__course_price = course_price\n",
    "        self.course_name = course_name\n",
    "        \n",
    "    @property\n",
    "    def course_price_access(self):\n",
    "        return self.__course_price\n",
    "    \n",
    "    @course_price_access.setter\n",
    "    def course_price_set(self , price):\n",
    "        if price <= 3500:\n",
    "            pass\n",
    "        else :\n",
    "            self.__course_price = price    "
   ]
  },
  {
   "cell_type": "code",
   "execution_count": 67,
   "id": "3e56adf2-e46d-4f5b-bdad-d2759d6212fa",
   "metadata": {},
   "outputs": [
    {
     "data": {
      "text/plain": [
       "3500"
      ]
     },
     "execution_count": 67,
     "metadata": {},
     "output_type": "execute_result"
    }
   ],
   "source": [
    "# Driver's code\n",
    "pw = pwskills(3500 , \"data science masters\")\n",
    "pw.course_price_access"
   ]
  },
  {
   "cell_type": "code",
   "execution_count": 68,
   "id": "260ff89d-d159-4ad9-9531-b73b39c5dab1",
   "metadata": {},
   "outputs": [
    {
     "data": {
      "text/plain": [
       "3500"
      ]
     },
     "execution_count": 68,
     "metadata": {},
     "output_type": "execute_result"
    }
   ],
   "source": [
    "pw.course_price_set = 2300\n",
    "pw.course_price_access"
   ]
  },
  {
   "cell_type": "code",
   "execution_count": 69,
   "id": "b80d52be-3796-4c4c-a45e-107e0bce8374",
   "metadata": {},
   "outputs": [
    {
     "data": {
      "text/plain": [
       "4500"
      ]
     },
     "execution_count": 69,
     "metadata": {},
     "output_type": "execute_result"
    }
   ],
   "source": [
    "pw.course_price_set=4500\n",
    "pw.course_price_access"
   ]
  },
  {
   "cell_type": "markdown",
   "id": "5d37f923-f4e7-4298-a8e7-9a316e37b824",
   "metadata": {},
   "source": [
    "# Q5.What is method overriding in python? Write a python code to demonstrate method overriding.\n",
    "\n",
    "### ans\n",
    "\n",
    "* Any object-oriented programming language can allow a subclass or child class to offer a customized implementation of a method already supplied by one of its superclasses or parent classes. This capability is known as method overriding. \n",
    "* The term \"override\" refers to a method in a subclass that replaces a method in a superclass when both methods share the same name, parameters, signature, and return type (or sub-type)."
   ]
  },
  {
   "cell_type": "code",
   "execution_count": 70,
   "id": "a05791a1-402d-4818-89d6-674ea25b4662",
   "metadata": {},
   "outputs": [],
   "source": [
    "class Parent():                         # Defining parent class\n",
    "\t\n",
    "\tdef __init__(self):     \t        # Constructor\n",
    "\t\tself.value = \"Inside Parent class.\"\n",
    "\t\t\n",
    "\t# Parent's show method\n",
    "\tdef show(self):\n",
    "\t\tprint(self.value)\n",
    "\t\t\n",
    "class Child(Parent):                     # Defining child class\n",
    "\t \n",
    "\tdef __init__(self):             \t# Constructor\n",
    "\t\tself.value = \"Inside Child class.\"\n",
    "\t\t\n",
    "\t# Child's show method\n",
    "\tdef show(self):\n",
    "\t\tprint(self.value)"
   ]
  },
  {
   "cell_type": "code",
   "execution_count": 71,
   "id": "eac92910-e4c4-4328-ab4c-f7548cc0c87c",
   "metadata": {},
   "outputs": [
    {
     "name": "stdout",
     "output_type": "stream",
     "text": [
      "Inside Parent class.\n",
      "Inside Child class.\n"
     ]
    }
   ],
   "source": [
    "# Driver's code\n",
    "obj1 = Parent()\n",
    "obj2 = Child()\n",
    "obj1.show()\n",
    "obj2.show()"
   ]
  }
 ],
 "metadata": {
  "kernelspec": {
   "display_name": "Python 3 (ipykernel)",
   "language": "python",
   "name": "python3"
  },
  "language_info": {
   "codemirror_mode": {
    "name": "ipython",
    "version": 3
   },
   "file_extension": ".py",
   "mimetype": "text/x-python",
   "name": "python",
   "nbconvert_exporter": "python",
   "pygments_lexer": "ipython3",
   "version": "3.10.8"
  }
 },
 "nbformat": 4,
 "nbformat_minor": 5
}
