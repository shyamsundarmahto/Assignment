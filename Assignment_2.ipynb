{
 "cells": [
  {
   "cell_type": "markdown",
   "id": "ba09096b-5115-4b88-84e5-3a24f2b08e15",
   "metadata": {},
   "source": [
    "### Q1. How do you comment code in Python? What are the different types of comments?\n",
    "\n",
    "A comment is a part of coding files that a programmer does not want to execute. Programmers use it either to explain a block of code or to avoid the execution of a specific part of code while running.\n",
    "\n",
    "The different types of comments are:\n",
    "\n",
    "1. Single line comment: These comment are used for explanation of single line code.\n",
    "   We use the \"#\" symbol for single line comment.\n"
   ]
  },
  {
   "cell_type": "code",
   "execution_count": 4,
   "id": "1fbbf5bf-2b79-452e-8ba0-df285c8f0493",
   "metadata": {},
   "outputs": [
    {
     "name": "stdout",
     "output_type": "stream",
     "text": [
      "I want to become a data science engineer.\n"
     ]
    }
   ],
   "source": [
    "# This is a \"Single line comment\"\n",
    "print(\"I want to become a data science engineer.\")"
   ]
  },
  {
   "cell_type": "markdown",
   "id": "c4dc16b2-b64c-4611-a602-0decf26ce4c4",
   "metadata": {},
   "source": [
    "2. Multiline comments(Docstrings): These comments are used when we want to comment on more than one line, or we can say multiple lines.\n",
    "We use tripple quotes (it may be single quotes(''' ''') or double quotes(\"\"\" \"\"\"))."
   ]
  },
  {
   "cell_type": "code",
   "execution_count": 5,
   "id": "98a14934-50be-4a17-8909-ac6e260c7fc7",
   "metadata": {},
   "outputs": [
    {
     "name": "stdout",
     "output_type": "stream",
     "text": [
      "Hey, I am good teacher.\n"
     ]
    }
   ],
   "source": [
    "'''Hey shyam, keep motivated\n",
    "   Teacher: Sudhanshu kumar and Krish naik\n",
    "   Course: Data Science 2.0 '''\n",
    "print(\"Hey, I am good teacher.\")"
   ]
  },
  {
   "cell_type": "markdown",
   "id": "a3717c8e-f69c-47f9-ac5a-2c06c7502304",
   "metadata": {},
   "source": [
    "### Q2. What are variables in Python? How do you declare and assign values to variables?\n",
    "Variables is like a container that hold data, very similar to container in kitchen hold sugar and salt etc. creating variables like creating placeholder in memory and assigning it some value.  Variables allow us to store various types of data such as numbers, strings, lists etc.\n",
    "\n",
    "we can declare and assign value to variables are:\n"
   ]
  },
  {
   "cell_type": "code",
   "execution_count": 2,
   "id": "44b303f9-007e-4ada-b008-8ade408b7045",
   "metadata": {},
   "outputs": [],
   "source": [
    "# Assigning integer values\n",
    "age = 25\n",
    "birth = 1998\n",
    "\n",
    "# Assigning string values\n",
    "name = \"Shyam sundar mahto\"\n",
    "occupation = \"Data Science Engineer\"\n",
    "\n",
    "# Assigning floating-point values\n",
    "g = 9.81\n",
    "\n",
    "# Assigning boolean values\n",
    "student = True\n",
    "teacher = False\n",
    "\n",
    "# Assigning List values\n",
    "integer=[1,2,3,4,5,6]\n",
    "\n",
    "# Assigning Tuple values\n",
    "even_number=(2,4,6,8,10)"
   ]
  },
  {
   "cell_type": "markdown",
   "id": "e2a0568f-2476-43da-99a5-4d7533859b52",
   "metadata": {},
   "source": [
    "### Q3. How do you convert one data type to another in Python?\n",
    "\n",
    "Converting one data type into another data type called \"Typecasting\".\n",
    "There are two types of Typecasting:\n",
    "1. Explicit conversion\n",
    "2. Implicit conversion\n",
    "\n",
    "Here some examples of Typecasting are:"
   ]
  },
  {
   "cell_type": "code",
   "execution_count": 6,
   "id": "16f2f075-71c0-4e30-8f7d-2e812fa253b7",
   "metadata": {},
   "outputs": [],
   "source": [
    "# Converts 7.85 to 7\n",
    "float_num = 7.85\n",
    "int_num = int(float_num)    # Data type of int_num is integer. \n",
    "\n",
    "# Converts 10 to 10.0\n",
    "int_num = 10\n",
    "float_num = float(int_num)  # Data type of float_num is float. \n",
    "\n",
    "\n",
    "# Converts 42 to \"42\"\n",
    "number = 42\n",
    "text = str(number)          # Data type of text is string. \n",
    "\n"
   ]
  },
  {
   "cell_type": "markdown",
   "id": "bd0307be-1c48-49cc-9210-170da073bad5",
   "metadata": {},
   "source": [
    "### Q4. How do you write and execute a Python script from the command line?\n",
    "\n",
    "### ans\n",
    "we can write and execute Python code in Jupyter Notebook are as follows:\n",
    "\n",
    "1. Create a New Notebook or Open an Existing One:\n",
    "\n",
    "* Open Jupyter Notebook by running the command jupyter notebook in command prompt or terminal.\n",
    "* Then create a new notebook by clicking on \"New\" and selecting \"Python 3 (ipykernel)\".Alternatively,we can     open existing notebook by clicking on its name in the Jupyter Dashboard.\n",
    "\n",
    "2. Write Code in Cells:\n",
    "\n",
    "* A notebook consists of cells. Click on cell to select it, and then it will be highlighted.To write code in   a cell, simply start typing. For example:"
   ]
  },
  {
   "cell_type": "code",
   "execution_count": 30,
   "id": "12bf888d",
   "metadata": {},
   "outputs": [],
   "source": [
    "print(\"Shyam Sundar Mahto\")"
   ]
  },
  {
   "cell_type": "markdown",
   "id": "88d784dd-82f3-45f9-9f79-0c014a1e5ff4",
   "metadata": {},
   "source": [
    "3. Execute Code Cells:\n",
    "\n",
    "* To execute code in  cell, we can either press \"Shift + Enter\" while the cell is selected or click the         \"Run\" button in the toolbar at top of the notebook.\n",
    "* The code in the cell will be executed, and the output will be displayed immediately below the cell.\n",
    "\n",
    "4. Create and Execute Additional Cells:\n",
    "\n",
    "* we can create new cells by clicking \"+\" button in the toolbar or by using keyboard shortcut B (for   inserting a cell below the current cell) or A (for inserting a cell above the current cell).\n",
    "\n",
    "* we can also delete cells using the \"Edit\" menu or the \"X\" button in the toolbar.\n"
   ]
  },
  {
   "cell_type": "markdown",
   "id": "02313c4e-96d0-47d0-aa1d-1e0fe90f653a",
   "metadata": {},
   "source": [
    "### Q5. Given a list my_list = [1, 2, 3, 4, 5], write the code to slice the list and obtain the sub-list [2, 3].\n",
    "### ans"
   ]
  },
  {
   "cell_type": "code",
   "execution_count": 28,
   "id": "876570d9-53d1-4cfd-9cc9-d9829112d506",
   "metadata": {},
   "outputs": [
    {
     "data": {
      "text/plain": [
       "[2, 3]"
      ]
     },
     "execution_count": 28,
     "metadata": {},
     "output_type": "execute_result"
    }
   ],
   "source": [
    "# The code to slice the list and obtain the sub-list [2, 3].\n",
    "my_list=[1,2,3,4,5]\n",
    "\n",
    "my_list[1:3]"
   ]
  },
  {
   "cell_type": "markdown",
   "id": "a94f8552-0be3-4c6c-bd63-0452c5f2ea70",
   "metadata": {},
   "source": [
    "### Q6. What is a complex number in mathematics, and how is it represented in Python?\n",
    "     \n",
    "A complex number is a number that comprises both a real part and an imaginary part. It is written in form  of \"a + bj\".\n",
    "\n",
    "where  \"a\" is the real part  \n",
    "       \"b\" is the imaginary part and  \n",
    "       \"j\" represents the imaginary unit (i.e, sqr root of -1)"
   ]
  },
  {
   "cell_type": "code",
   "execution_count": 17,
   "id": "2cac083a-b779-4847-bbdd-bf877c5afaa4",
   "metadata": {},
   "outputs": [
    {
     "name": "stdout",
     "output_type": "stream",
     "text": [
      "<class 'complex'>\n",
      "4.0\n",
      "6.0\n"
     ]
    }
   ],
   "source": [
    "# Ex:-\n",
    "complex_num=4+6j\n",
    "#Accessing real and imaginary parts\n",
    "real_part = complex_num.real         # 4\n",
    "imaginary_part = complex_num.imag    # 6\n",
    "print(type(complex_num))\n",
    "print(real_part)\n",
    "print(imaginary_part)"
   ]
  },
  {
   "cell_type": "markdown",
   "id": "1532cbaa-9258-417c-9f91-7a1f59200368",
   "metadata": {},
   "source": [
    "### Q7. What is the correct way to declare a variable named age and assign the value 25 to it?"
   ]
  },
  {
   "cell_type": "code",
   "execution_count": 18,
   "id": "646ada26-b5f0-4186-85ec-a81c1041d84c",
   "metadata": {},
   "outputs": [
    {
     "data": {
      "text/plain": [
       "int"
      ]
     },
     "execution_count": 18,
     "metadata": {},
     "output_type": "execute_result"
    }
   ],
   "source": [
    "# The correct way to declare a variable named age and assign the value 25 is given below\n",
    "age=25\n",
    "type(age)"
   ]
  },
  {
   "cell_type": "markdown",
   "id": "cefacb48-aa0e-4f1e-8734-bd820e341324",
   "metadata": {},
   "source": [
    "### Q8. Declare a variable named price and assign the value 9.99 to it. What data type does this variable belong to?"
   ]
  },
  {
   "cell_type": "code",
   "execution_count": 19,
   "id": "cc7adcc2-22b4-4272-aba8-52071c990b3f",
   "metadata": {},
   "outputs": [
    {
     "data": {
      "text/plain": [
       "float"
      ]
     },
     "execution_count": 19,
     "metadata": {},
     "output_type": "execute_result"
    }
   ],
   "source": [
    "price=9.99\n",
    "# The \"price\" belong to float data type.\n",
    "type(price)"
   ]
  },
  {
   "cell_type": "markdown",
   "id": "4355ae4b-627f-4911-baf5-14f716cf7467",
   "metadata": {},
   "source": [
    "### Q9. Create a variable named name and assign your full name to it as a string. How would you print the value of this variable?"
   ]
  },
  {
   "cell_type": "code",
   "execution_count": 21,
   "id": "c14ff4cd-9cd3-4af9-9412-5c313deb28d2",
   "metadata": {},
   "outputs": [
    {
     "name": "stdout",
     "output_type": "stream",
     "text": [
      "Shyam Sundar Mahto\n"
     ]
    }
   ],
   "source": [
    "name=\"Shyam Sundar Mahto\"\n",
    "# we can print the value name by using print statement\n",
    "print(name)"
   ]
  },
  {
   "cell_type": "markdown",
   "id": "2b750e30-93d5-4bac-a4f1-0747c73fecb8",
   "metadata": {},
   "source": [
    "### Q10. Given the string \"Hello, World!\", extract the substring \"World\"."
   ]
  },
  {
   "cell_type": "code",
   "execution_count": 24,
   "id": "715bd13e-dc91-447b-9745-9e7866bbc9ab",
   "metadata": {},
   "outputs": [
    {
     "data": {
      "text/plain": [
       "'World'"
      ]
     },
     "execution_count": 24,
     "metadata": {},
     "output_type": "execute_result"
    }
   ],
   "source": [
    "wel=\"Hello, World!\"\n",
    "# we can extract the substring \"World!\" as follows\n",
    "wel[7:12]"
   ]
  },
  {
   "cell_type": "markdown",
   "id": "99b87072-ba54-40fe-822a-77e417150881",
   "metadata": {},
   "source": [
    "### Q11. Create a variable named \"is_student\" and assign it a boolean value indicating whether you are currently a student or not."
   ]
  },
  {
   "cell_type": "code",
   "execution_count": 27,
   "id": "e581586e-11b9-4c68-ad7a-bcc5c3b6361c",
   "metadata": {},
   "outputs": [],
   "source": [
    "is_student=True"
   ]
  }
 ],
 "metadata": {
  "kernelspec": {
   "display_name": "Python 3 (ipykernel)",
   "language": "python",
   "name": "python3"
  },
  "language_info": {
   "codemirror_mode": {
    "name": "ipython",
    "version": 3
   },
   "file_extension": ".py",
   "mimetype": "text/x-python",
   "name": "python",
   "nbconvert_exporter": "python",
   "pygments_lexer": "ipython3",
   "version": "3.10.8"
  }
 },
 "nbformat": 4,
 "nbformat_minor": 5
}
