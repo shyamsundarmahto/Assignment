{
 "cells": [
  {
   "cell_type": "markdown",
   "id": "ebf0b718-19ad-4729-b717-d13a5f2fe74d",
   "metadata": {},
   "source": [
    "# Q1. Explain why we have to use the Exception class while creating a Custom Exception.\n",
    "    Note: Here Exception class refers to the base class for all the exceptions.\n",
    "    \n",
    "### ans\n",
    "\n",
    "When creating a custom exception in Python, it is advisable to derive it from the base Exception class. This practice is important for several reasons are:\n",
    "\n",
    "* Consistency and Clarity: Python follows a convention where all built-in exceptions inherit from the BaseException class, which itself is a subclass of Exception. By adhering to this convention and creating custom exceptions that inherit from Exception, you ensure consistency and clarity in your codebase. Other developers who encounter your custom exception will immediately recognize it as an exception due to its lineage, making the code more understandable.\n",
    "\n",
    "* Compatibility with Exception Handling: Python provides mechanisms for handling exceptions using try and except blocks. When you inherit from the Exception class, your custom exception can seamlessly integrate into Python's exception handling system. This means you can catch and handle your custom exception in the same way you handle built-in exceptions, providing a consistent and familiar experience for developers working with your code.\n",
    "\n",
    "* Standardized Attributes and Methods: The Exception class and its subclasses provide standardized attributes and methods that are commonly used when working with exceptions. These include attributes like message (or args), which stores the description of the exception, and methods like str() to convert the exception to a string. By inheriting from Exception, your custom exception inherits these attributes and methods, allowing you to leverage them for error messages and debugging.\n",
    "\n",
    "* Built-in Exception Hierarchy: Python's exception hierarchy is organized in a meaningful way. Inheriting from Exception allows your custom exception to fit into this hierarchy logically. You can also choose to inherit from more specific exception classes like ValueError, TypeError, or IOError if your custom exception pertains to a specific category of errors. This allows you to provide more context about the nature of the exception.\n",
    "\n",
    "* Tooling and Documentation Support: Python's IDEs and documentation tools provide automatic code completion and documentation for standard exception classes. When you inherit from Exception, you make it easier for yourself and other developers to work with your custom exception by benefiting from these tools. This can greatly improve code maintainability and developer productivity.\n",
    "\n",
    "\n"
   ]
  },
  {
   "cell_type": "markdown",
   "id": "afc8faf3-f680-4e71-8291-e261d0e3940a",
   "metadata": {},
   "source": [
    "# Q2. Write a python program to print Python Exception Hierarchy."
   ]
  },
  {
   "cell_type": "code",
   "execution_count": 3,
   "id": "5c96607c-5a9f-4418-a3aa-6111e0fc4e93",
   "metadata": {},
   "outputs": [
    {
     "name": "stdout",
     "output_type": "stream",
     "text": [
      "Python Exception Hierarchy:\n",
      "BaseException\n",
      "----Exception\n",
      "--------TypeError\n",
      "------------FloatOperation\n",
      "------------MultipartConversionError\n",
      "--------StopAsyncIteration\n",
      "--------StopIteration\n",
      "--------ImportError\n",
      "------------ModuleNotFoundError\n",
      "------------ZipImportError\n",
      "--------OSError\n",
      "------------ConnectionError\n",
      "----------------BrokenPipeError\n",
      "----------------ConnectionAbortedError\n",
      "----------------ConnectionRefusedError\n",
      "----------------ConnectionResetError\n",
      "--------------------RemoteDisconnected\n",
      "------------BlockingIOError\n",
      "------------ChildProcessError\n",
      "------------FileExistsError\n",
      "------------FileNotFoundError\n",
      "------------IsADirectoryError\n",
      "------------NotADirectoryError\n",
      "------------InterruptedError\n",
      "----------------InterruptedSystemCall\n",
      "------------PermissionError\n",
      "------------ProcessLookupError\n",
      "------------TimeoutError\n",
      "------------UnsupportedOperation\n",
      "------------itimer_error\n",
      "------------herror\n",
      "------------gaierror\n",
      "------------SSLError\n",
      "----------------SSLCertVerificationError\n",
      "----------------SSLZeroReturnError\n",
      "----------------SSLWantWriteError\n",
      "----------------SSLWantReadError\n",
      "----------------SSLSyscallError\n",
      "----------------SSLEOFError\n",
      "------------Error\n",
      "----------------SameFileError\n",
      "------------SpecialFileError\n",
      "------------ExecError\n",
      "------------ReadError\n",
      "------------URLError\n",
      "----------------HTTPError\n",
      "----------------ContentTooShortError\n",
      "------------BadGzipFile\n",
      "--------EOFError\n",
      "------------IncompleteReadError\n",
      "--------RuntimeError\n",
      "------------RecursionError\n",
      "------------NotImplementedError\n",
      "----------------ZMQVersionError\n",
      "----------------StdinNotImplementedError\n",
      "------------_DeadlockError\n",
      "------------BrokenBarrierError\n",
      "------------BrokenExecutor\n",
      "----------------BrokenThreadPool\n",
      "------------SendfileNotAvailableError\n",
      "------------ExtractionError\n",
      "------------VariableError\n",
      "--------NameError\n",
      "------------UnboundLocalError\n",
      "--------AttributeError\n",
      "------------FrozenInstanceError\n",
      "--------SyntaxError\n",
      "------------IndentationError\n",
      "----------------TabError\n",
      "--------LookupError\n",
      "------------IndexError\n",
      "------------KeyError\n",
      "----------------NoSuchKernel\n",
      "----------------UnknownBackend\n",
      "------------CodecRegistryError\n",
      "--------ValueError\n",
      "------------UnicodeError\n",
      "----------------UnicodeEncodeError\n",
      "----------------UnicodeDecodeError\n",
      "----------------UnicodeTranslateError\n",
      "------------UnsupportedOperation\n",
      "------------JSONDecodeError\n",
      "------------SSLCertVerificationError\n",
      "------------Error\n",
      "------------UnsupportedDigestmodError\n",
      "------------IllegalMonthError\n",
      "------------IllegalWeekdayError\n",
      "------------ParserError\n",
      "------------ClassNotFound\n",
      "------------ClipboardEmpty\n",
      "------------MessageDefect\n",
      "----------------NoBoundaryInMultipartDefect\n",
      "----------------StartBoundaryNotFoundDefect\n",
      "----------------CloseBoundaryNotFoundDefect\n",
      "----------------FirstHeaderLineIsContinuationDefect\n",
      "----------------MisplacedEnvelopeHeaderDefect\n",
      "----------------MissingHeaderBodySeparatorDefect\n",
      "----------------MultipartInvariantViolationDefect\n",
      "----------------InvalidMultipartContentTransferEncodingDefect\n",
      "----------------UndecodableBytesDefect\n",
      "----------------InvalidBase64PaddingDefect\n",
      "----------------InvalidBase64CharactersDefect\n",
      "----------------InvalidBase64LengthDefect\n",
      "----------------HeaderDefect\n",
      "--------------------InvalidHeaderDefect\n",
      "--------------------HeaderMissingRequiredValue\n",
      "--------------------NonPrintableDefect\n",
      "--------------------ObsoleteHeaderDefect\n",
      "--------------------NonASCIILocalPartDefect\n",
      "--------------------InvalidDateDefect\n",
      "------------MacroToEdit\n",
      "------------InvalidFileException\n",
      "------------UnequalIterablesError\n",
      "------------InvalidVersion\n",
      "------------_InvalidELFFileHeader\n",
      "------------InvalidWheelFilename\n",
      "------------InvalidSdistFilename\n",
      "------------InvalidSpecifier\n",
      "------------InvalidMarker\n",
      "------------UndefinedComparison\n",
      "------------UndefinedEnvironmentName\n",
      "------------InvalidRequirement\n",
      "----------------RequirementParseError\n",
      "------------InvalidVersion\n",
      "--------AssertionError\n",
      "--------ArithmeticError\n",
      "------------FloatingPointError\n",
      "------------OverflowError\n",
      "------------ZeroDivisionError\n",
      "----------------DivisionByZero\n",
      "----------------DivisionUndefined\n",
      "------------DecimalException\n",
      "----------------Clamped\n",
      "----------------Rounded\n",
      "--------------------Underflow\n",
      "--------------------Overflow\n",
      "----------------Inexact\n",
      "--------------------Underflow\n",
      "--------------------Overflow\n",
      "----------------Subnormal\n",
      "--------------------Underflow\n",
      "----------------DivisionByZero\n",
      "----------------FloatOperation\n",
      "----------------InvalidOperation\n",
      "--------------------ConversionSyntax\n",
      "--------------------DivisionImpossible\n",
      "--------------------DivisionUndefined\n",
      "--------------------InvalidContext\n",
      "--------SystemError\n",
      "------------CodecRegistryError\n",
      "--------ReferenceError\n",
      "--------MemoryError\n",
      "--------BufferError\n",
      "--------Warning\n",
      "------------UserWarning\n",
      "----------------GetPassWarning\n",
      "----------------FormatterWarning\n",
      "------------EncodingWarning\n",
      "------------DeprecationWarning\n",
      "----------------ProvisionalWarning\n",
      "------------PendingDeprecationWarning\n",
      "------------SyntaxWarning\n",
      "------------RuntimeWarning\n",
      "----------------ProactorSelectorThreadWarning\n",
      "----------------UnknownTimezoneWarning\n",
      "----------------PEP440Warning\n",
      "------------FutureWarning\n",
      "----------------ProvisionalCompleterWarning\n",
      "------------ImportWarning\n",
      "------------UnicodeWarning\n",
      "------------BytesWarning\n",
      "------------ResourceWarning\n",
      "------------DeprecatedTzFormatWarning\n",
      "------------PkgResourcesDeprecationWarning\n",
      "--------_OptionError\n",
      "--------_Error\n",
      "--------error\n",
      "--------Verbose\n",
      "--------Error\n",
      "--------SubprocessError\n",
      "------------CalledProcessError\n",
      "------------TimeoutExpired\n",
      "--------TokenError\n",
      "--------StopTokenizing\n",
      "--------ClassFoundException\n",
      "--------EndOfBlock\n",
      "--------TraitError\n",
      "--------Error\n",
      "--------Error\n",
      "------------CancelledError\n",
      "------------TimeoutError\n",
      "------------InvalidStateError\n",
      "--------_GiveupOnSendfile\n",
      "--------error\n",
      "--------Incomplete\n",
      "--------TimeoutError\n",
      "--------InvalidStateError\n",
      "--------LimitOverrunError\n",
      "--------QueueEmpty\n",
      "--------QueueFull\n",
      "--------Empty\n",
      "--------Full\n",
      "--------ArgumentError\n",
      "--------ZMQBaseError\n",
      "------------ZMQError\n",
      "----------------ContextTerminated\n",
      "----------------Again\n",
      "----------------InterruptedSystemCall\n",
      "------------ZMQBindError\n",
      "------------NotDone\n",
      "--------PickleError\n",
      "------------PicklingError\n",
      "------------UnpicklingError\n",
      "--------_Stop\n",
      "--------ArgumentError\n",
      "--------ArgumentTypeError\n",
      "--------ConfigError\n",
      "------------ConfigLoaderError\n",
      "----------------ArgumentError\n",
      "------------ConfigFileNotFound\n",
      "--------ConfigurableError\n",
      "------------MultipleInstanceError\n",
      "--------ApplicationError\n",
      "--------error\n",
      "--------TimeoutError\n",
      "--------error\n",
      "--------ReturnValueIgnoredError\n",
      "--------KeyReuseError\n",
      "--------UnknownKeyError\n",
      "--------LeakedCallbackError\n",
      "--------BadYieldError\n",
      "--------ReturnValueIgnoredError\n",
      "--------Return\n",
      "--------InvalidPortNumber\n",
      "--------error\n",
      "--------LZMAError\n",
      "--------RegistryError\n",
      "--------_GiveupOnFastCopy\n",
      "--------Error\n",
      "------------NoSectionError\n",
      "------------DuplicateSectionError\n",
      "------------DuplicateOptionError\n",
      "------------NoOptionError\n",
      "------------InterpolationError\n",
      "----------------InterpolationMissingOptionError\n",
      "----------------InterpolationSyntaxError\n",
      "----------------InterpolationDepthError\n",
      "------------ParsingError\n",
      "----------------MissingSectionHeaderError\n",
      "--------NoIPAddresses\n",
      "--------BadZipFile\n",
      "--------LargeZipFile\n",
      "--------BadEntryPoint\n",
      "--------NoSuchEntryPoint\n",
      "--------DuplicateKernelError\n",
      "--------ErrorDuringImport\n",
      "--------NotOneValueFound\n",
      "--------CannotEval\n",
      "--------OptionError\n",
      "--------BdbQuit\n",
      "--------Restart\n",
      "--------ExceptionPexpect\n",
      "------------EOF\n",
      "------------TIMEOUT\n",
      "--------PtyProcessError\n",
      "--------FindCmdError\n",
      "--------HomeDirError\n",
      "--------ProfileDirError\n",
      "--------IPythonCoreError\n",
      "------------TryNext\n",
      "------------UsageError\n",
      "------------StdinNotImplementedError\n",
      "--------InputRejected\n",
      "--------GetoptError\n",
      "--------ErrorToken\n",
      "--------PrefilterError\n",
      "--------AliasError\n",
      "------------InvalidAliasError\n",
      "--------Error\n",
      "------------InterfaceError\n",
      "------------DatabaseError\n",
      "----------------InternalError\n",
      "----------------OperationalError\n",
      "----------------ProgrammingError\n",
      "----------------IntegrityError\n",
      "----------------DataError\n",
      "----------------NotSupportedError\n",
      "--------Warning\n",
      "--------SpaceInInput\n",
      "--------DOMException\n",
      "------------IndexSizeErr\n",
      "------------DomstringSizeErr\n",
      "------------HierarchyRequestErr\n",
      "------------WrongDocumentErr\n",
      "------------InvalidCharacterErr\n",
      "------------NoDataAllowedErr\n",
      "------------NoModificationAllowedErr\n",
      "------------NotFoundErr\n",
      "------------NotSupportedErr\n",
      "------------InuseAttributeErr\n",
      "------------InvalidStateErr\n",
      "------------SyntaxErr\n",
      "------------InvalidModificationErr\n",
      "------------NamespaceErr\n",
      "------------InvalidAccessErr\n",
      "------------ValidationErr\n",
      "--------ValidationError\n",
      "--------EditReadOnlyBuffer\n",
      "--------_Retry\n",
      "--------InvalidLayoutError\n",
      "--------HeightIsUnknownError\n",
      "--------ParserSyntaxError\n",
      "--------InternalParseError\n",
      "--------_PositionUpdatingFinished\n",
      "--------SimpleGetItemNotFound\n",
      "--------UncaughtAttributeError\n",
      "--------HasNoContext\n",
      "--------ParamIssue\n",
      "--------_JediError\n",
      "------------InternalError\n",
      "------------WrongVersion\n",
      "------------RefactoringError\n",
      "--------OnErrorLeaf\n",
      "--------InvalidPythonEnvironment\n",
      "--------MessageError\n",
      "------------MessageParseError\n",
      "----------------HeaderParseError\n",
      "----------------BoundaryError\n",
      "------------MultipartConversionError\n",
      "------------CharsetError\n",
      "--------Error\n",
      "--------HTTPException\n",
      "------------NotConnected\n",
      "------------InvalidURL\n",
      "------------UnknownProtocol\n",
      "------------UnknownTransferEncoding\n",
      "------------UnimplementedFileMode\n",
      "------------IncompleteRead\n",
      "------------ImproperConnectionState\n",
      "----------------CannotSendRequest\n",
      "----------------CannotSendHeader\n",
      "----------------ResponseNotReady\n",
      "------------BadStatusLine\n",
      "----------------RemoteDisconnected\n",
      "------------LineTooLong\n",
      "--------InteractivelyDefined\n",
      "--------KillEmbedded\n",
      "--------Error\n",
      "------------NoSuchProcess\n",
      "----------------ZombieProcess\n",
      "------------AccessDenied\n",
      "------------TimeoutExpired\n",
      "--------_Ipv6UnsupportedError\n",
      "--------QueueEmpty\n",
      "--------QueueFull\n",
      "--------DebuggerInitializationError\n",
      "--------ExpatError\n",
      "--------Error\n",
      "------------ProtocolError\n",
      "------------ResponseError\n",
      "------------Fault\n",
      "--------ParseBaseException\n",
      "------------ParseException\n",
      "------------ParseFatalException\n",
      "----------------ParseSyntaxException\n",
      "--------RecursiveGrammarException\n",
      "--------ResolutionError\n",
      "------------VersionConflict\n",
      "----------------ContextualVersionConflict\n",
      "------------DistributionNotFound\n",
      "------------UnknownExtra\n",
      "--------_Error\n",
      "--------UnableToResolveVariableException\n",
      "--------InvalidTypeInArgsException\n",
      "----GeneratorExit\n",
      "----SystemExit\n",
      "----KeyboardInterrupt\n",
      "----CancelledError\n",
      "----AbortThread\n"
     ]
    }
   ],
   "source": [
    "import inspect   # import inspect module\n",
    "\n",
    "def print_exception_hierarchy(exception_class, indent=0):\n",
    "    print('-' * indent + exception_class.__name__)\n",
    "    for subclass in exception_class.__subclasses__():\n",
    "        print_exception_hierarchy(subclass, indent + 4)\n",
    "\n",
    "if __name__ == \"__main__\":\n",
    "    print(\"Python Exception Hierarchy:\")\n",
    "    print_exception_hierarchy(BaseException)"
   ]
  },
  {
   "cell_type": "markdown",
   "id": "a2ba1cc0-9d18-4041-a1b8-2ea1e5aae962",
   "metadata": {},
   "source": [
    "# Q3. What errors are defined in the ArithmeticError class? Explain any two with an example.\n",
    "\n",
    "### ans\n",
    "\n",
    "In Python, the ArithmeticError class is the base class for exceptions that occur during arithmetic operations. It is a subclass of the Exception class and is itself the parent class for several specific arithmetic-related exception classes.\n",
    "\n",
    "The two examples of ArithmeticError are:\n",
    "\n",
    "1. ZeroDivisionError:\n",
    "   * This exception is raised when we try to divide a number by zero, which is mathematically undefined.\n"
   ]
  },
  {
   "cell_type": "code",
   "execution_count": 8,
   "id": "40e13931-73bc-4a63-946a-42084ca74a9f",
   "metadata": {},
   "outputs": [
    {
     "name": "stdout",
     "output_type": "stream",
     "text": [
      "Error: division by zero\n"
     ]
    }
   ],
   "source": [
    "#Examples\n",
    "numerator = 10\n",
    "denominator = 0\n",
    "\n",
    "try:\n",
    "    result = numerator / denominator\n",
    "except ZeroDivisionError as e:\n",
    "    print(\"Error:\", e)\n"
   ]
  },
  {
   "cell_type": "markdown",
   "id": "58de80b1-10e7-4da6-9cef-4de99b7c5dbe",
   "metadata": {},
   "source": [
    "2. FloatingPointError: \n",
    "   * This error occurs when there's an issue with floating-point calculations, such as division by zero or an invalid operation on a floating-point number."
   ]
  },
  {
   "cell_type": "code",
   "execution_count": 10,
   "id": "c8db30c6-800c-4e7b-b8e4-e2fbb51b7e7c",
   "metadata": {},
   "outputs": [
    {
     "ename": "ZeroDivisionError",
     "evalue": "float division by zero",
     "output_type": "error",
     "traceback": [
      "\u001b[0;31m---------------------------------------------------------------------------\u001b[0m",
      "\u001b[0;31mZeroDivisionError\u001b[0m                         Traceback (most recent call last)",
      "Cell \u001b[0;32mIn[10], line 3\u001b[0m\n\u001b[1;32m      1\u001b[0m \u001b[38;5;66;03m#Examples:\u001b[39;00m\n\u001b[1;32m      2\u001b[0m \u001b[38;5;28;01mtry\u001b[39;00m:\n\u001b[0;32m----> 3\u001b[0m     result \u001b[38;5;241m=\u001b[39m \u001b[38;5;241;43m1.0\u001b[39;49m\u001b[43m \u001b[49m\u001b[38;5;241;43m/\u001b[39;49m\u001b[43m \u001b[49m\u001b[38;5;241;43m0.0\u001b[39;49m\n\u001b[1;32m      4\u001b[0m \u001b[38;5;28;01mexcept\u001b[39;00m \u001b[38;5;167;01mFloatingPointError\u001b[39;00m \u001b[38;5;28;01mas\u001b[39;00m e:\n\u001b[1;32m      5\u001b[0m     \u001b[38;5;28mprint\u001b[39m(e)\n",
      "\u001b[0;31mZeroDivisionError\u001b[0m: float division by zero"
     ]
    }
   ],
   "source": [
    "#Examples:\n",
    "try:\n",
    "    result = 1.0 / 0.0\n",
    "except FloatingPointError as e:\n",
    "    print(e)\n"
   ]
  },
  {
   "cell_type": "markdown",
   "id": "d2108810-7257-41d0-84e4-5bd3ed167183",
   "metadata": {},
   "source": [
    "# Q4. Why LookupError class is used? Explain with an example KeyError and IndexError.\n",
    "\n",
    "### ans\n",
    "    \n",
    "In Python, the \"LookupError\" class is used as a base class for exceptions that occur when an attempt to access or look up an item in a collection or mapping (such as a list, dictionary, or set) fails. It serves as a common ancestor for a group of exceptions related to lookup or key-related operations. The primary reason for using the LookupError class is to provide a consistent way of handling such errors in our code.\n",
    "\n",
    "The example KeyError and IndexError are:\n",
    "\n",
    "1. KeyError:\n",
    "   * KeyError is raised when we attempt to access a dictionary using a key that does not exist in the dictionary."
   ]
  },
  {
   "cell_type": "code",
   "execution_count": 17,
   "id": "a0cb4eae-0029-4715-9d3a-9c0b156a0a33",
   "metadata": {},
   "outputs": [
    {
     "name": "stdout",
     "output_type": "stream",
     "text": [
      "Error: 'email'\n"
     ]
    }
   ],
   "source": [
    "#Example of KeyError are:\n",
    "\n",
    "try:\n",
    "    my_dict = {\"name\": \"Alice\", \"age\": 30}\n",
    "    my_dict[\"email\"]  # \"email\" key does not exist\n",
    "except KeyError as e:\n",
    "    print(\"Error:\", e)\n"
   ]
  },
  {
   "cell_type": "markdown",
   "id": "8f87308e-0dd1-4e1c-b9ad-1eb660e979ca",
   "metadata": {},
   "source": [
    "2.IndexError:\n",
    "   * IndexError is raised when you attempt to access a sequence (like a list or a tuple) with an index that is out of range."
   ]
  },
  {
   "cell_type": "code",
   "execution_count": 18,
   "id": "cc885f90-7f45-41c2-91af-7d0e12e5273c",
   "metadata": {},
   "outputs": [
    {
     "name": "stdout",
     "output_type": "stream",
     "text": [
      "Error: list index out of range\n"
     ]
    }
   ],
   "source": [
    "#Example of IndexError are:\n",
    "\n",
    "try:\n",
    "    my_list = [1, 2, 3]\n",
    "    my_list[10]  # Index 10 is out of range for this list\n",
    "except IndexError as e:\n",
    "    print(\"Error:\", e)\n"
   ]
  },
  {
   "cell_type": "markdown",
   "id": "6c2e5133-fca9-40dc-9e83-92e6d620dbdb",
   "metadata": {},
   "source": [
    "# Q5. Explain ImportError. What is ModuleNotFoundError?\n",
    "\n",
    "### ans\n",
    "\n",
    "### ImportError:\n",
    "\n",
    "ImportError is a base class for exceptions that occur when there are problems with importing modules. It can be raised in various situations, such as when a module cannot be found, when there is a problem with a module's content, or when circular imports create an import deadlock."
   ]
  },
  {
   "cell_type": "code",
   "execution_count": 19,
   "id": "8b3e4426-8cd7-4456-aaca-be6e07233788",
   "metadata": {},
   "outputs": [
    {
     "name": "stdout",
     "output_type": "stream",
     "text": [
      "No module named 'pwskills'\n"
     ]
    }
   ],
   "source": [
    "#Example of ImportError are:\n",
    "try:\n",
    "    import pwskills  # Trying to import a module that doesn't exist\n",
    "except ImportError as e:\n",
    "    print(e)\n"
   ]
  },
  {
   "cell_type": "markdown",
   "id": "05520481-2a9a-49e9-a35b-20fa9aa1b5f5",
   "metadata": {},
   "source": [
    "### ModuleNotFoundError:\n",
    "\n",
    "ModuleNotFoundError is a more specific exception introduced in Python 3.6. It is raised when an imported module cannot be found."
   ]
  },
  {
   "cell_type": "code",
   "execution_count": 20,
   "id": "315b053f-3d92-4713-b8b4-c533b47cb549",
   "metadata": {},
   "outputs": [
    {
     "name": "stdout",
     "output_type": "stream",
     "text": [
      "No module named 'non_existent_module'\n"
     ]
    }
   ],
   "source": [
    "#Example of ModuleNotFoundError are:\n",
    "try:\n",
    "    import non_existent_module  # Trying to import a module that doesn't exist\n",
    "except ModuleNotFoundError as e:\n",
    "    print(e)\n"
   ]
  },
  {
   "cell_type": "markdown",
   "id": "9cf05545-c150-4053-b7bb-244f000211bb",
   "metadata": {},
   "source": [
    "# Q6. List down some best practices for exception handling in python.\n",
    "\n",
    "### ans\n",
    "\n",
    "The best practices for exception handling in Python are:\n",
    "\n",
    "### 1. Use always Specific Exceptions: \n",
    "* Catch specific exceptions whenever possible rather than catching broad exceptions like Exception or BaseException. This allows you to handle errors more precisely and avoid masking unrelated issues."
   ]
  },
  {
   "cell_type": "code",
   "execution_count": 21,
   "id": "5ee69b19-4133-470a-9fd1-d2c37feeade3",
   "metadata": {},
   "outputs": [
    {
     "name": "stdout",
     "output_type": "stream",
     "text": [
      "division by zero\n"
     ]
    }
   ],
   "source": [
    "#use always a specific exception\n",
    "try :\n",
    "    10/0\n",
    "except Exception as e :\n",
    "    print(e)"
   ]
  },
  {
   "cell_type": "markdown",
   "id": "f5f829e6-f685-4a0f-bae6-5e42930ad980",
   "metadata": {},
   "source": [
    "### 2. Always try to print valid message:\n",
    "* When an exception occurs, it's crucial to provide a meaningful error message that helps developers understand what went wrong. Avoid printing generic or cryptic error messages."
   ]
  },
  {
   "cell_type": "code",
   "execution_count": 24,
   "id": "e7526029-9f33-4c24-8d2c-15ae57c615f3",
   "metadata": {},
   "outputs": [
    {
     "name": "stdout",
     "output_type": "stream",
     "text": [
      "This is my zero dedision error i am handling  division by zero\n"
     ]
    }
   ],
   "source": [
    "#print always a valid msg\n",
    "try :\n",
    "    10/0\n",
    "except ZeroDivisionError as e :\n",
    "    print(\"This is my zero dedision error i am handling \" , e)"
   ]
  },
  {
   "cell_type": "markdown",
   "id": "e4519db0-e9bb-427d-8e7b-ed21c94859d2",
   "metadata": {},
   "source": [
    "### 3. Always Try to Log:\n",
    "* Logging exceptions is a best practice because it provides a record of errors that occur in our application. It's especially important in production environments where debugging information might not be readily available."
   ]
  },
  {
   "cell_type": "code",
   "execution_count": 26,
   "id": "8d5c5456-2ccb-42a2-b29e-10031317d0d5",
   "metadata": {},
   "outputs": [],
   "source": [
    "#always try to log \n",
    "import logging\n",
    "logging.basicConfig(filename = \"error.log\" , level = logging.ERROR)\n",
    "try :\n",
    "    10/0\n",
    "except ZeroDivisionError as e :\n",
    "    logging.error(\"this is my zero dedision error i am handling {} \".format( e))"
   ]
  },
  {
   "cell_type": "markdown",
   "id": "55fd8c60-8fc8-4140-9379-c884ebc1d275",
   "metadata": {},
   "source": [
    "### 4. Always Avoid Writing Multiple Exception Handling:\n",
    "* Avoid catching multiple exceptions in a single except block, as this can lead to less precise error handling and make it harder to determine the cause of an issue.\n",
    "* Instead, catch specific exceptions separately, allowing us to handle each type of error differently or provide specific error messages."
   ]
  },
  {
   "cell_type": "code",
   "execution_count": 27,
   "id": "99eb9261-8562-436f-a827-dd702b33f1d2",
   "metadata": {},
   "outputs": [],
   "source": [
    "#always avoid to write a multiple exception handling \n",
    "try :\n",
    "    10/0\n",
    "except FileNotFoundError as e : \n",
    "    logging.error(\"this is my file not found  {} \".format( e))\n",
    "except AttributeError as e : \n",
    "    logging.error(\"this is my attribute erro  {} \".format( e))\n",
    "except ZeroDivisionError as e :\n",
    "    logging.error(\"this is my zero dedision error i am handling {} \".format( e))\n"
   ]
  },
  {
   "cell_type": "markdown",
   "id": "e766e9a4-1345-42dd-ae9b-fd5413f5fd48",
   "metadata": {},
   "source": [
    "### 5. Always Try to Prepare Proper Documentation:\n",
    "* Avoid inserting or creating anything that may create a problem for feature developers."
   ]
  },
  {
   "cell_type": "markdown",
   "id": "fff1e09e-25ab-4f20-9d28-35572e6f23e0",
   "metadata": {},
   "source": [
    "### 6. Use finally for Cleanup:\n",
    "* When we need to ensure that certain actions (e.g., resource cleanup) are always performed, use a finally block. This block is executed regardless of whether an exception was raised or not."
   ]
  },
  {
   "cell_type": "code",
   "execution_count": 28,
   "id": "eab18dc6-c703-4bbd-b2fd-b41ddaf0b1a0",
   "metadata": {},
   "outputs": [],
   "source": [
    "#cleanup all the resources \n",
    "\n",
    "try :\n",
    "    with open(\"test.txt\" , \"w\" ) as f :\n",
    "        f.write(\"thsi is my msg to file \" )\n",
    "except FileNotFoundError as e : \n",
    "     logging.error(\"this is my file not found  {} \".format( e))\n",
    "finally : \n",
    "    f.close()"
   ]
  }
 ],
 "metadata": {
  "kernelspec": {
   "display_name": "Python 3 (ipykernel)",
   "language": "python",
   "name": "python3"
  },
  "language_info": {
   "codemirror_mode": {
    "name": "ipython",
    "version": 3
   },
   "file_extension": ".py",
   "mimetype": "text/x-python",
   "name": "python",
   "nbconvert_exporter": "python",
   "pygments_lexer": "ipython3",
   "version": "3.10.8"
  }
 },
 "nbformat": 4,
 "nbformat_minor": 5
}
