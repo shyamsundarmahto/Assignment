{
 "cells": [
  {
   "cell_type": "markdown",
   "id": "52c641f7-f561-4bfc-9a44-673351d58b3c",
   "metadata": {},
   "source": [
    "# Q1. Which keyword is used to create a function? Create a function to return a list of odd numbers in the range of 1 to 25.\n",
    "\n",
    "### ans:\n",
    "   * \"def\" keyword is used to create a function.\n",
    "   * The function to return a list of odd numbers in the range of 1 to 25 are given below:\n"
   ]
  },
  {
   "cell_type": "code",
   "execution_count": 3,
   "id": "49dc8d02-eb90-462d-a453-5560278edb88",
   "metadata": {},
   "outputs": [],
   "source": [
    "def odd_num():\n",
    "    n=[]\n",
    "    for i in range(1,26):\n",
    "        if i%2!=0:\n",
    "            n.append(i)\n",
    "    return n        \n",
    "        "
   ]
  },
  {
   "cell_type": "code",
   "execution_count": 4,
   "id": "b57a3752-4179-4896-b06a-4f9f61027d22",
   "metadata": {},
   "outputs": [
    {
     "data": {
      "text/plain": [
       "[1, 3, 5, 7, 9, 11, 13, 15, 17, 19, 21, 23, 25]"
      ]
     },
     "execution_count": 4,
     "metadata": {},
     "output_type": "execute_result"
    }
   ],
   "source": [
    "odd_num()"
   ]
  },
  {
   "cell_type": "markdown",
   "id": "0e75e667-e21b-474b-87b0-16b6db8088bd",
   "metadata": {},
   "source": [
    "# Q2. Why *args and **kwargs is used in some functions? Create a function each for *args and **kwargs to demonstrate their use.\n",
    "### ans:\n",
    "   * \"*args\":This notation allows a function to accept any number of positional arguments and collect them into a tuples named \"args\". or \"args\" can try to pass any number of argument that i want in a run time."
   ]
  },
  {
   "cell_type": "code",
   "execution_count": 3,
   "id": "b4e09c62-fc18-4b3e-a454-1f3f510b75ee",
   "metadata": {},
   "outputs": [],
   "source": [
    "# Ex:\n",
    "def test1(*args):\n",
    "    return args\n"
   ]
  },
  {
   "cell_type": "code",
   "execution_count": 12,
   "id": "39aabb86-d280-4c1f-94d1-a4b248ef716f",
   "metadata": {},
   "outputs": [
    {
     "data": {
      "text/plain": [
       "tuple"
      ]
     },
     "execution_count": 12,
     "metadata": {},
     "output_type": "execute_result"
    }
   ],
   "source": [
    "type(test1())"
   ]
  },
  {
   "cell_type": "code",
   "execution_count": 13,
   "id": "ef4ffc19-57e7-461e-8c61-19d64ddd9a27",
   "metadata": {},
   "outputs": [
    {
     "data": {
      "text/plain": [
       "(1, 2, 3, 4, 5, 6)"
      ]
     },
     "execution_count": 13,
     "metadata": {},
     "output_type": "execute_result"
    }
   ],
   "source": [
    "test1(1,2,3,4,5,6)"
   ]
  },
  {
   "cell_type": "markdown",
   "id": "05d72212-ff87-480b-a4fe-e651f5bb9a42",
   "metadata": {},
   "source": [
    "* \"*kwargs\":This notation allows a function to accept any number of keyword arguments. These arguments are collected into a dictionary inside the function."
   ]
  },
  {
   "cell_type": "code",
   "execution_count": 9,
   "id": "544ed2ee-7411-4358-ae42-a1ba2e7a03aa",
   "metadata": {},
   "outputs": [],
   "source": [
    "#Ex:\n",
    "def test2(**kwargs):\n",
    "    return kwargs"
   ]
  },
  {
   "cell_type": "code",
   "execution_count": 14,
   "id": "ca4e4848-1b6e-41e6-abb3-a9ecb15a1393",
   "metadata": {},
   "outputs": [
    {
     "data": {
      "text/plain": [
       "dict"
      ]
     },
     "execution_count": 14,
     "metadata": {},
     "output_type": "execute_result"
    }
   ],
   "source": [
    "type(test2())"
   ]
  },
  {
   "cell_type": "code",
   "execution_count": 15,
   "id": "1ed37500-aad4-47b8-9973-9e93d7a6bb03",
   "metadata": {},
   "outputs": [
    {
     "data": {
      "text/plain": [
       "{'a': 1, 'b': 2, 'c': 3, 'd': 'DataScience'}"
      ]
     },
     "execution_count": 15,
     "metadata": {},
     "output_type": "execute_result"
    }
   ],
   "source": [
    "test2(a=1,b=2,c=3,d=\"DataScience\")"
   ]
  },
  {
   "cell_type": "markdown",
   "id": "5cd47cdd-6586-461d-baf5-95ab01247c76",
   "metadata": {},
   "source": [
    "# Q3.  What is an iterator in python? Name the method used to initialise the iterator object and the method used for iteration. Use these methods to print the first five elements of the given list [2, 4, 6, 8, 10, 12, 14, 16, 18, 20].\n",
    "### ans\n"
   ]
  },
  {
   "cell_type": "markdown",
   "id": "a2af9a85-0f49-46b3-854c-62989e5eed46",
   "metadata": {},
   "source": [
    "* An iterator in Python is an object that is used to iterate over iterable objects like lists, tuples, dicts, and sets. \n",
    "\n",
    "* An iterator object in Python must implement two methods:\n",
    "\n",
    "  * _ _ _iter_ _ _(): This method initializes and returns the iterator object itself. It's responsible for preparing the           iterator for iteration.\n",
    "\n",
    "  * _ _ _next_ _ _(): This method is responsible for returning the next value in the sequence. It raises the                 \"StopIteration\" exception when there are no more elements to be returned.\n",
    "  \n",
    "* The output of first five elements of the given list [2, 4, 6, 8, 10, 12, 14, 16, 18, 20] are given below:"
   ]
  },
  {
   "cell_type": "code",
   "execution_count": 32,
   "id": "85b2fcbc-ac0e-4892-aeb3-f30445484579",
   "metadata": {},
   "outputs": [
    {
     "name": "stdout",
     "output_type": "stream",
     "text": [
      "2\n",
      "4\n",
      "6\n",
      "8\n",
      "10\n"
     ]
    }
   ],
   "source": [
    "class ListIterator:\n",
    "    def __init__(self, data):\n",
    "        self.data = data\n",
    "        self.index = 0\n",
    "\n",
    "    def __iter__(self):\n",
    "        return self\n",
    "\n",
    "    def __next__(self):\n",
    "        if self.index < len(self.data):\n",
    "            value = self.data[self.index]\n",
    "            self.index += 1\n",
    "            return value\n",
    "        else:\n",
    "            raise StopIteration\n",
    "\n",
    "# Create an iterator object for the list\n",
    "my_list = [2, 4, 6, 8, 10, 12, 14, 16, 18, 20]\n",
    "iterator = ListIterator(my_list)\n",
    "\n",
    "# Iterate and print the first five elements\n",
    "for _ in range(5):\n",
    "    print(next(iterator))\n"
   ]
  },
  {
   "cell_type": "markdown",
   "id": "764466b0-170f-4239-a52c-5db769a4efdb",
   "metadata": {},
   "source": [
    "# Q4.  What is a generator function in python? Why yield keyword is used? Give an example of a generator function.\n",
    "### ans \n",
    "* A generator function is a type of function that generate a sequence of values one at a time in an efficient and memory   friendly manner.\n",
    "* \"yield\" keyword used to pause the function execution and produce a values to the caller. When the function is called     again it resumes execution from where it left off to maintaing its internal state. \n",
    "  \"yield\" keywords is used because:\n",
    "  * Memory efficiency\n",
    "  * Lazy evaluation\n",
    "  * Iterability\n",
    "  * State aintenance"
   ]
  },
  {
   "cell_type": "code",
   "execution_count": 20,
   "id": "83ca208c-5186-4b74-8f8c-67fec67c903a",
   "metadata": {},
   "outputs": [],
   "source": [
    "#Ex: Fibonacci series: 0,1,1,2,3,5,8,13,21,34\n",
    "def fib(n):\n",
    "    a,b=0,1\n",
    "    for i in range(n):\n",
    "        yield a\n",
    "        a,b=b,a+b\n",
    "        "
   ]
  },
  {
   "cell_type": "code",
   "execution_count": 21,
   "id": "2a09b598-cf75-4645-a5e2-5da78e4e2fed",
   "metadata": {},
   "outputs": [
    {
     "data": {
      "text/plain": [
       "<generator object fib at 0x7f37b54485f0>"
      ]
     },
     "execution_count": 21,
     "metadata": {},
     "output_type": "execute_result"
    }
   ],
   "source": [
    "fib(10) # It will gives generator object"
   ]
  },
  {
   "cell_type": "code",
   "execution_count": 22,
   "id": "3ba5fb45-f153-4740-b47a-ffdcae8b971a",
   "metadata": {},
   "outputs": [
    {
     "name": "stdout",
     "output_type": "stream",
     "text": [
      "0\n",
      "1\n",
      "1\n",
      "2\n",
      "3\n",
      "5\n",
      "8\n",
      "13\n",
      "21\n",
      "34\n"
     ]
    }
   ],
   "source": [
    "# If I want to take out data from the function, then I have to call it inside a for loop.\n",
    "for i in fib(10):\n",
    "    print(i)"
   ]
  },
  {
   "cell_type": "markdown",
   "id": "3b0004ec-d989-4b69-affc-818702bc74d8",
   "metadata": {},
   "source": [
    "# Q5. Create a generator function for prime numbers less than 1000. Use the next() method to print the first 20 prime numbers."
   ]
  },
  {
   "cell_type": "code",
   "execution_count": 29,
   "id": "05ca4f9e-d0f0-4ce5-a030-8d7d6f1d8419",
   "metadata": {},
   "outputs": [
    {
     "name": "stdout",
     "output_type": "stream",
     "text": [
      "2\n",
      "3\n",
      "5\n",
      "7\n",
      "11\n",
      "13\n",
      "17\n",
      "19\n",
      "23\n",
      "29\n",
      "31\n",
      "37\n",
      "41\n",
      "43\n",
      "47\n",
      "53\n",
      "59\n",
      "61\n",
      "67\n",
      "71\n"
     ]
    }
   ],
   "source": [
    "def prime(num):\n",
    "    if num <= 1:\n",
    "        return False\n",
    "    for i in range(2, int(num ** 0.5) + 1):\n",
    "        if num % i == 0:\n",
    "            return False\n",
    "    return True\n",
    "\n",
    "def prime_generator(limit):\n",
    "    num = 2\n",
    "    while num < limit:\n",
    "        if prime(num):\n",
    "            yield num\n",
    "        num += 1\n",
    "\n",
    "# Using the generator function to print the first 20 prime numbers\n",
    "prime_gen = prime_generator(1000) # Create the generator object\n",
    "\n",
    "for _ in range(20):\n",
    "    print(next(prime_gen))\n"
   ]
  }
 ],
 "metadata": {
  "kernelspec": {
   "display_name": "Python 3 (ipykernel)",
   "language": "python",
   "name": "python3"
  },
  "language_info": {
   "codemirror_mode": {
    "name": "ipython",
    "version": 3
   },
   "file_extension": ".py",
   "mimetype": "text/x-python",
   "name": "python",
   "nbconvert_exporter": "python",
   "pygments_lexer": "ipython3",
   "version": "3.10.8"
  }
 },
 "nbformat": 4,
 "nbformat_minor": 5
}
