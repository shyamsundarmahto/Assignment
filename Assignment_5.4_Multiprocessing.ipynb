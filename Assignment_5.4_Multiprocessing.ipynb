{
 "cells": [
  {
   "cell_type": "markdown",
   "id": "56af08e0-4224-4013-a1fe-348c150b97b9",
   "metadata": {},
   "source": [
    "# Q1. What is multiprocessing in python? Why is it useful? \n",
    "\n",
    "### ans\n",
    "\n",
    "Multiprocessing in Python refers to a programming technique and module that allows us to create and manage multiple processes concurrently in a Python program. Each process runs independently and can execute its own code, making it useful for parallelizing tasks and taking advantage of multi-core processors. Multiprocessing is a way to achieve parallelism in Python, which can significantly improve the performance of CPU-bound tasks.\n",
    "\n",
    "It is useful because of:\n",
    "\n",
    "* I. Parallelism: Multiprocessing allows us to perform multiple tasks simultaneously by running them in separate processes. This is particularly useful for tasks that can be divided into independent subtasks, such as data processing, computations, or simulations. It takes advantage of multi-core CPUs and can lead to significant speed improvements for CPU-bound tasks.\n",
    "\n",
    "* II. Isolation: Each process created with multiprocessing has its own memory space and resources, which makes it isolated from other processes. This isolation helps prevent one process from affecting the stability of another. In contrast, threads (Python threads) share the same memory space and can lead to concurrency issues like race conditions, making multiprocessing a safer choice for some scenarios.\n",
    "\n",
    "* III. GIL (Global Interpreter Lock) Bypass: Python's Global Interpreter Lock (GIL) can limit the concurrency of Python threads. However, each process created with multiprocessing runs its own separate Python interpreter, effectively bypassing the GIL. This allows CPU-bound tasks to take full advantage of multiple CPU cores.\n",
    "\n",
    "* IV. Multiprocessing Module: The multiprocessing module provides various classes and functions for creating and managing processes. we can use the Process class to create new processes, and the Pool class to manage a pool of worker processes for tasks like parallelizing map and reduce operations."
   ]
  },
  {
   "cell_type": "code",
   "execution_count": 2,
   "id": "b9e212dd-23be-4c0d-85a0-9fb8a55d2ca0",
   "metadata": {},
   "outputs": [
    {
     "name": "stdout",
     "output_type": "stream",
     "text": [
      "this is my main program\n",
      "this is my multiprocessing program\n"
     ]
    }
   ],
   "source": [
    "# Example of how to use the multiprocessing module are:\n",
    "\n",
    "import multiprocessing\n",
    "\n",
    "def test():\n",
    "    print(\"this is my multiprocessing program\")\n",
    "\n",
    "if __name__ == \"__main__\":\n",
    "    m = multiprocessing.Process(target=test)\n",
    "    print(\"this is my main program\")\n",
    "    m.start()\n",
    "    m.join()\n",
    "    "
   ]
  },
  {
   "cell_type": "markdown",
   "id": "b8794805-8f9c-48d4-a83c-605a444c2efc",
   "metadata": {},
   "source": [
    "# Q2. What are the differences between multiprocessing and multithreading?\n",
    "\n",
    "### ans\n",
    "\n",
    "The differences between multiprocessing and multithreading are:\n",
    "\n",
    "I. Processes vs. Threads:\n",
    "\n",
    "   * In multiprocessing we create multiple independent processes. Each process has its own memory space and runs its own Python interpreter. These processes can run in true parallel on multi-core CPUs.\n",
    "   * In multithreading, we create multiple threads within a single process. All threads share the same memory space and resources of the parent process. Threads are lighter-weight than processes but may not achieve true parallelism due to the Global Interpreter Lock (GIL) in Python (in the case of CPython).\n",
    "\n",
    "II. Parallelism:\n",
    "\n",
    "   * Multiprocessing: Offers true parallelism since each process runs independently and can utilize separate CPU cores. It's suitable for CPU-bound tasks that require high performance.\n",
    "   * Multithreading: May not achieve true parallelism in Python due to the GIL. It's better suited for I/O-bound tasks, where threads can perform tasks concurrently, such as handling multiple network requests.\n",
    "\n",
    "III. Isolation:\n",
    "\n",
    "   * Multiprocessing: Provides strong isolation between processes. One process cannot easily interfere with or crash another process.\n",
    "   * Multithreading: Threads within the same process share the same memory space, which can lead to potential issues like race conditions if not carefully managed.\n",
    "\n",
    "IV. Complexity:\n",
    "\n",
    "   * Multiprocessing: Generally has a higher level of complexity since it involves managing separate processes, potentially communicating between them, and dealing with inter-process synchronization.\n",
    "   * Multithreading: Can be less complex since threads within a process share data more easily. However, managing thread synchronization can be challenging.\n",
    "\n",
    "V. Use Cases:\n",
    "\n",
    "  * Multiprocessing: Best for CPU-bound tasks that require high computation and can benefit from parallelism. Examples include complex calculations, simulations, and data processing.\n",
    "  * Multithreading: Ideal for I/O-bound tasks that spend time waiting for input or output operations, such as handling multiple network connections, file I/O, or user interfaces.\n"
   ]
  },
  {
   "cell_type": "markdown",
   "id": "0ea03537-e7a7-4eca-b1d2-68de4d982535",
   "metadata": {},
   "source": [
    "# Q3. Write a python code to create a process using the multiprocessing module.\n",
    "\n",
    "### ans\n",
    "\n",
    "The python code to create a process using the multiprocessing module are:\n"
   ]
  },
  {
   "cell_type": "code",
   "execution_count": 7,
   "id": "7a461bc0-6228-42ae-bc35-51587b053f5f",
   "metadata": {},
   "outputs": [
    {
     "name": "stdout",
     "output_type": "stream",
     "text": [
      "Main process is done.\n",
      "This is a child process.\n"
     ]
    }
   ],
   "source": [
    "import multiprocessing\n",
    "\n",
    "def my_function():\n",
    "    print(\"This is a child process.\")\n",
    "\n",
    "if __name__ == \"__main__\":\n",
    "    \n",
    "    # Create a multiprocessing Process object\n",
    "    my_process = multiprocessing.Process(target=my_function)\n",
    "    print(\"Main process is done.\")\n",
    "    # Start the process\n",
    "    my_process.start()\n",
    "    \n",
    "    # Wait for the process to complete (optional)\n",
    "    my_process.join()"
   ]
  },
  {
   "cell_type": "markdown",
   "id": "3889edf1-1ff6-445e-bac1-9bb190be2db8",
   "metadata": {},
   "source": [
    "# Q4. What is a multiprocessing pool in python? Why is it used?\n",
    "\n",
    "### ans\n",
    "\n",
    "A multiprocessing pool in Python, specifically within the multiprocessing module, is a high-level construct used for managing and distributing parallel tasks across multiple processes. It simplifies the process of parallelizing work, allowing you to execute functions concurrently on different inputs or data points. Multiprocessing pools are useful for taking advantage of multi-core CPUs and improving the performance of CPU-bound tasks. \n",
    "\n",
    "Multiprocessing pools are used because of:\n",
    "\n",
    "* Parallelization: Multiprocessing pools are used for parallelizing tasks. They allow us to divide a large number of similar tasks into smaller units and execute them concurrently. Each worker process in the pool handles one unit of work.\n",
    "\n",
    "* Simplicity: Pools abstract away many of the low-level details of process management, making it relatively simple to add parallelism to our Python programs. We don't need to create and manage individual processes manually.\n",
    "\n",
    "* Resource Management: Pools manage a fixed number of worker processes, which we can specify when creating the pool. These processes are reused for executing tasks, reducing the overhead of process creation and destruction.\n",
    "\n",
    "* Map Function: Pools typically provide a map method, similar to Python's built-in map function, which allows us to apply a function to a sequence of inputs. The map operation is distributed across the worker processes in the pool, with each process working on a subset of the input."
   ]
  },
  {
   "cell_type": "code",
   "execution_count": 10,
   "id": "c01ebf72-2300-4d9c-aa8a-4c5041ae9eba",
   "metadata": {},
   "outputs": [
    {
     "name": "stdout",
     "output_type": "stream",
     "text": [
      "[1, 4, 9, 16, 25, 36, 49, 64, 81, 100]\n"
     ]
    }
   ],
   "source": [
    "# Example of multiprocessing pool are:\n",
    "\n",
    "import multiprocessing\n",
    "\n",
    "def square(x):\n",
    "    return x * x\n",
    "\n",
    "if __name__ == \"__main__\":\n",
    "    \n",
    "    # Create a multiprocessing pool with 3 worker processes\n",
    "    with multiprocessing.Pool(processes=3) as pool:\n",
    "        numbers = [1, 2, 3, 4, 5,6,7,8,9,10]\n",
    "        results = pool.map(square, numbers)\n",
    "    \n",
    "    print(results)"
   ]
  },
  {
   "cell_type": "markdown",
   "id": "4f51f570-a1cf-4b8d-95b6-e56363d46810",
   "metadata": {},
   "source": [
    "# Q5. How can we create a pool of worker processes in python using the multiprocessing module?\n",
    "\n",
    "### ans\n",
    "\n",
    "To create a pool of worker processes in Python using the multiprocessing module, we can use the \"multiprocessing.Pool\" class. Here's a step-by-step guide on how to create and use a pool of worker processes:\n",
    "\n",
    "1. Import the multiprocessing module:"
   ]
  },
  {
   "cell_type": "code",
   "execution_count": 16,
   "id": "43e2d564-2727-4689-97bc-650b478aa28f",
   "metadata": {},
   "outputs": [],
   "source": [
    "# For example:\n",
    "\n",
    "import multiprocessing"
   ]
  },
  {
   "cell_type": "markdown",
   "id": "5573b62a-44bb-418f-82da-0d19d1e4565e",
   "metadata": {},
   "source": [
    "2. Define a function that we want to parallelize. This function will be executed by the worker processes in the pool. "
   ]
  },
  {
   "cell_type": "code",
   "execution_count": 17,
   "id": "4874cda0-baa7-4b28-bb9b-eea26a2354b2",
   "metadata": {},
   "outputs": [],
   "source": [
    "# For example:\n",
    "\n",
    "def process_data(data):\n",
    "    # Your processing logic here\n",
    "    return result\n"
   ]
  },
  {
   "cell_type": "markdown",
   "id": "2f5b9c40-f716-4759-bcd6-74b9584534b1",
   "metadata": {},
   "source": [
    "3. In the if __name__ == \"__main__\": block, create a multiprocessing pool with the desired number of worker processes using the multiprocessing.Pool class. We can specify the number of processes as an argument to the Pool constructor. "
   ]
  },
  {
   "cell_type": "code",
   "execution_count": null,
   "id": "c300e929-196b-4c46-865b-68004349d174",
   "metadata": {},
   "outputs": [],
   "source": [
    "# For example, to create a pool with 4 worker processes:\n",
    "\n",
    "if __name__ == \"__main__\":\n",
    "    with multiprocessing.Pool(processes=4) as pool:\n",
    "        # The pool of worker processes is created here\n"
   ]
  },
  {
   "cell_type": "markdown",
   "id": "a2c15286-8e94-48af-9bae-a69aa97c7d8e",
   "metadata": {},
   "source": [
    "4. Define the data or tasks that we want to process in parallel. This can be a list, tuple, or any iterable containing the input data for our function."
   ]
  },
  {
   "cell_type": "code",
   "execution_count": null,
   "id": "f0669b4f-6a92-4a3b-8e0f-934d32698998",
   "metadata": {},
   "outputs": [],
   "source": [
    "# For example:\n",
    "\n",
    "data_to_process = [data1, data2, data3, ...]\n"
   ]
  },
  {
   "cell_type": "markdown",
   "id": "58932eb0-5493-4e04-8339-74dfad89bed4",
   "metadata": {},
   "source": [
    "5. Use the pool.map() method to distribute the work to the worker processes. The pool.map() function takes two arguments: the function to be applied to each element of the data and the iterable containing the data."
   ]
  },
  {
   "cell_type": "code",
   "execution_count": null,
   "id": "c17cf9d7-a948-4dbb-ad68-e2a26841fcd0",
   "metadata": {},
   "outputs": [],
   "source": [
    "# For example:\n",
    "\n",
    "results = pool.map(process_data, data_to_process)\n"
   ]
  },
  {
   "cell_type": "markdown",
   "id": "31825213-b496-4dcd-9a58-d8f4259c0afa",
   "metadata": {},
   "source": [
    "6. After the pool.map() call, the worker processes will automatically close when the with block is exited, ensuring proper cleanup.\n"
   ]
  },
  {
   "cell_type": "code",
   "execution_count": 19,
   "id": "eb17ff02-b5d9-4cd0-8adc-927d7e3fa1b4",
   "metadata": {},
   "outputs": [
    {
     "name": "stdout",
     "output_type": "stream",
     "text": [
      "[2, 4, 6, 8, 10, 12, 14, 16, 18, 20]\n"
     ]
    }
   ],
   "source": [
    "# Here's a complete example:\n",
    "\n",
    "import multiprocessing\n",
    "\n",
    "def process_data(data):\n",
    "    return data * 2\n",
    "\n",
    "if __name__ == \"__main__\":\n",
    "    with multiprocessing.Pool(processes=4) as pool:\n",
    "        data_to_process = [1, 2, 3, 4, 5,6,7,8,9,10]\n",
    "        results = pool.map(process_data, data_to_process)\n",
    "\n",
    "    print(results)\n"
   ]
  },
  {
   "cell_type": "markdown",
   "id": "97f54b5f-ca1f-4042-ad3c-b378c264c639",
   "metadata": {},
   "source": [
    "# Q6. Write a python program to create 4 processes, each process should print a different number using the multiprocessing module in python.\n",
    "\n",
    "### ans"
   ]
  },
  {
   "cell_type": "code",
   "execution_count": 20,
   "id": "5fdefa5e-8593-49f9-89bd-16658f74dd2f",
   "metadata": {},
   "outputs": [
    {
     "name": "stdout",
     "output_type": "stream",
     "text": [
      "Process 1: 1\n",
      "Process 2: 2\n",
      "Process 3: 3\n",
      "Process 4: 4\n",
      "All processes have finished.\n"
     ]
    }
   ],
   "source": [
    "import multiprocessing\n",
    "\n",
    "# Define a function to print a number\n",
    "def print_number(number):\n",
    "    print(f\"Process {number}: {number}\")\n",
    "\n",
    "if __name__ == \"__main__\":\n",
    "    # Create a list of numbers\n",
    "    numbers = [1, 2, 3, 4]\n",
    "\n",
    "    # Create and start four processes\n",
    "    processes = []\n",
    "    for num in numbers:\n",
    "        process = multiprocessing.Process(target=print_number, args=(num,))\n",
    "        processes.append(process)\n",
    "        process.start()\n",
    "\n",
    "    # Wait for all processes to complete\n",
    "    for process in processes:\n",
    "        process.join()\n",
    "\n",
    "    print(\"All processes have finished.\")\n"
   ]
  },
  {
   "cell_type": "code",
   "execution_count": null,
   "id": "a4b3677f-2179-45a6-859f-6e581532bebb",
   "metadata": {},
   "outputs": [],
   "source": []
  }
 ],
 "metadata": {
  "kernelspec": {
   "display_name": "Python 3 (ipykernel)",
   "language": "python",
   "name": "python3"
  },
  "language_info": {
   "codemirror_mode": {
    "name": "ipython",
    "version": 3
   },
   "file_extension": ".py",
   "mimetype": "text/x-python",
   "name": "python",
   "nbconvert_exporter": "python",
   "pygments_lexer": "ipython3",
   "version": "3.10.8"
  }
 },
 "nbformat": 4,
 "nbformat_minor": 5
}
