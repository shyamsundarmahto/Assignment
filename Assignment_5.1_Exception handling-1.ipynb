{
 "cells": [
  {
   "cell_type": "markdown",
   "id": "59562352-90f5-451b-942a-7fb51391cf7e",
   "metadata": {},
   "source": [
    "# Q1. What is an Exception in python? Write the difference between Exceptions and syntax errors.\n",
    "\n",
    "### ans\n",
    "\n",
    "* An exception is an event that occurs during the execution of a program and disrupts the normal flow of the program. When   an exception occurs, Python raises an exception object that can be caught and handled by the program to prevent it from   crashing. Exceptions are used to handle errors and exceptional situations in your code.\n",
    "\n",
    "  Exceptions allow us to gracefully (appropriately) deal with errors and exceptional cases in our code, ensuring that our   programme can continue running despite encountering issues.\n",
    "  \n",
    "  Some common examples of exceptions in Python:\n",
    "\n",
    "  * ZeroDivisionError: Raised when attempting to divide by zero.\n",
    "  * TypeError: Raised when an operation is performed on an object of inappropriate type.\n",
    "  * ValueError: Raised when a function receives an argument of correct type but inappropriate value.\n",
    "  * IndexError: Raised when trying to access an index that is out of range in a sequence (e.g., list, tuple).\n",
    "  * KeyError: Raised when trying to access a dictionary key that doesn't exist.\n",
    "  * FileNotFoundError: Raised when trying to open or access a file that does not exist.\n",
    "  \n",
    "  \n",
    "  The difference between Exceptions and syntax errors.\n",
    "  \n",
    "  Exceptions:\n",
    "  \n",
    "  * Exceptions are runtime errors that occur while a program is running, after the code has passed the syntax-checking         phase.\n",
    "  * It happen when something unexpected or exceptional occurs during the execution of your code. \n",
    "  * This could be due to user input, external factors like file I/O, or mathematical operations that result in errors         (e.g., division by zero).\n",
    "  * Exceptions can be handled using try-except blocks. You can anticipate and catch specific exceptions, allowing your         program to continue running gracefully even if an error occurs.\n",
    "  * Python provides a wide range of built-in exceptions, such as ValueError, TypeError, and ZeroDivisionError, to handle       various error scenarios.\n",
    "\n",
    "  Syntax Errors:\n",
    "  \n",
    "  * Syntax errors are also known as parsing errors.\n",
    "  * They occur when you write code that does not conform to the rules and structure of the Python language.\n",
    "  * Examples of syntax errors include missing colons at the end of control statements (if, for, while), incorrect             indentation, misspelled variable names, and using reserved words incorrectly.\n",
    "  * Syntax errors prevent your code from being executed at all. Python's interpreter raises a SyntaxError immediately when     it encounters a syntax error.\n",
    "  * You need to fix syntax errors before you can run your code."
   ]
  },
  {
   "cell_type": "markdown",
   "id": "59332401-30e1-4340-aee6-935627a05b06",
   "metadata": {},
   "source": [
    "# Q2. What happens when an exception is not handled? Explain with an example.\n",
    "\n",
    "### ans\n",
    "\n",
    "When an exception in a Python programme is not handled, it propagates (spreads) up the call stack (chain) until it reaches the top level of the programme. If it is still unhandled at that time, the programme stops and an error message is displayed to the user (containing information about the exception type and the traceback).This process is called \"unhandled exception propagation\" and can lead to an abrupt (sudden) program termination."
   ]
  },
  {
   "cell_type": "code",
   "execution_count": 1,
   "id": "1c210f13-8992-473c-9598-83915d47d731",
   "metadata": {},
   "outputs": [
    {
     "ename": "ZeroDivisionError",
     "evalue": "division by zero",
     "output_type": "error",
     "traceback": [
      "\u001b[0;31m---------------------------------------------------------------------------\u001b[0m",
      "\u001b[0;31mZeroDivisionError\u001b[0m                         Traceback (most recent call last)",
      "Cell \u001b[0;32mIn[1], line 4\u001b[0m\n\u001b[1;32m      2\u001b[0m result \u001b[38;5;241m=\u001b[39m \u001b[38;5;241m0\u001b[39m\n\u001b[1;32m      3\u001b[0m \u001b[38;5;28;01mtry\u001b[39;00m:\n\u001b[0;32m----> 4\u001b[0m     result \u001b[38;5;241m=\u001b[39m \u001b[38;5;241;43m10\u001b[39;49m\u001b[43m \u001b[49m\u001b[38;5;241;43m/\u001b[39;49m\u001b[43m \u001b[49m\u001b[38;5;241;43m0\u001b[39;49m  \u001b[38;5;66;03m# This will raise a ZeroDivisionError\u001b[39;00m\n\u001b[1;32m      5\u001b[0m \u001b[38;5;28;01mexcept\u001b[39;00m \u001b[38;5;167;01mValueError\u001b[39;00m:\n\u001b[1;32m      6\u001b[0m     \u001b[38;5;28mprint\u001b[39m(\u001b[38;5;124m\"\u001b[39m\u001b[38;5;124mOops, a ValueError occurred.\u001b[39m\u001b[38;5;124m\"\u001b[39m)\n",
      "\u001b[0;31mZeroDivisionError\u001b[0m: division by zero"
     ]
    }
   ],
   "source": [
    "# Example: Divide by zero without handling the exception\n",
    "result = 0\n",
    "try:\n",
    "    result = 10 / 0  # This will raise a ZeroDivisionError\n",
    "except ValueError:\n",
    "    print(\"Oops, a ValueError occurred.\")\n",
    "    \n",
    "print(\"The result is:\", result)\n"
   ]
  },
  {
   "cell_type": "markdown",
   "id": "a776ffc1-b33c-4be0-af7a-c7ec54482dca",
   "metadata": {},
   "source": [
    "Here we are attempting to divide 10 by 0, which will raise a ZeroDivisionError because division by zero is not allowed in Python. However, we have an except block that is specifically looking for a ValueError, not a ZeroDivisionError. Since the ZeroDivisionError is not caught, it will propagate up to the top level of the program."
   ]
  },
  {
   "cell_type": "markdown",
   "id": "dae12bf4-19e3-4050-8d09-1b09a6e68749",
   "metadata": {},
   "source": [
    "# Q3. Which Python statements are used to catch and handle exceptions? Explain with an example.\n",
    "\n",
    "### ans\n",
    "\n",
    "   In Python, we can catch and handle exceptions using the \"try\" and \"except\" statements.\n",
    "   \n",
    "   Examples are given below:"
   ]
  },
  {
   "cell_type": "code",
   "execution_count": 12,
   "id": "4cdbc149-1485-4896-b232-d9dfff29dd52",
   "metadata": {},
   "outputs": [
    {
     "name": "stdout",
     "output_type": "stream",
     "text": [
      "Oops! Division by zero occurred.\n"
     ]
    }
   ],
   "source": [
    "try:\n",
    "    # Code that may raise an exception\n",
    "    \n",
    "    result = 10 / 0  # This will raise a ZeroDivisionError\n",
    "except ZeroDivisionError:\n",
    "    # Code to handle the exception\n",
    "    print(\"Oops! Division by zero occurred.\")"
   ]
  },
  {
   "cell_type": "markdown",
   "id": "529d327e-ed00-414b-9e65-61bc79cbb2cb",
   "metadata": {},
   "source": [
    "Explanation:\n",
    "\n",
    "* try: The \"try\" block is used to enclose the code that might raise an exception. If an exception occurs within this block,   Python will jump to the matching \"except\" block to handle the exception.\n",
    "\n",
    "* except: The \"except\" block follows the try block and contains code that will execute if a specific exception, in this       case, \"ZeroDivisionError\" occurs within the try block."
   ]
  },
  {
   "cell_type": "markdown",
   "id": "6dfa1106-328b-4d14-b5d1-a9ded08ea489",
   "metadata": {},
   "source": [
    "# Q4. Explain withan example:\n",
    "### 1. try and else\n",
    "### 2. finally\n",
    "### 3. raise\n",
    "\n",
    "### ans\n",
    "\n",
    "### 1. try and else: \n",
    "* The \"try\" and \"else\" blocks are used together to handle exceptions and provide code that should run when no exceptions     occur.\n",
    "* Code in the \"try\" block is executed, and if an exception occurs, it jumps to the appropriate \"except\" block. If no         exceptions occur, the code in the \"else\" block is executed."
   ]
  },
  {
   "cell_type": "code",
   "execution_count": 15,
   "id": "8a9b3222-e397-4c61-b277-eb495be5a80f",
   "metadata": {},
   "outputs": [
    {
     "name": "stdin",
     "output_type": "stream",
     "text": [
      "Enter a numerator:  4\n",
      "Enter a denominator:  0\n"
     ]
    },
    {
     "name": "stdout",
     "output_type": "stream",
     "text": [
      "Error: Division by zero\n"
     ]
    }
   ],
   "source": [
    "#Examples of try and else are:\n",
    "try:\n",
    "    num1 = int(input(\"Enter a numerator: \"))\n",
    "    num2 = int(input(\"Enter a denominator: \"))\n",
    "    result = num1 / num2\n",
    "except ZeroDivisionError:\n",
    "    print(\"Error: Division by zero\")\n",
    "else:\n",
    "    print(\"Result:\", result)\n"
   ]
  },
  {
   "cell_type": "markdown",
   "id": "d2535c3c-efaf-49ca-a43f-edebd52a6e09",
   "metadata": {},
   "source": [
    "### 2. finally:\n",
    "* The finally block is used to specify code that always runs, whether an exception occurred or not. It's typically used for cleanup operations.\n"
   ]
  },
  {
   "cell_type": "code",
   "execution_count": 16,
   "id": "d39dd891-bca6-4992-8488-307b8fa656fc",
   "metadata": {},
   "outputs": [
    {
     "name": "stdout",
     "output_type": "stream",
     "text": [
      "File not found.\n"
     ]
    },
    {
     "ename": "NameError",
     "evalue": "name 'file' is not defined",
     "output_type": "error",
     "traceback": [
      "\u001b[0;31m---------------------------------------------------------------------------\u001b[0m",
      "\u001b[0;31mNameError\u001b[0m                                 Traceback (most recent call last)",
      "Cell \u001b[0;32mIn[16], line 10\u001b[0m\n\u001b[1;32m      8\u001b[0m     \u001b[38;5;28mprint\u001b[39m(\u001b[38;5;124m\"\u001b[39m\u001b[38;5;124mFile content:\u001b[39m\u001b[38;5;124m\"\u001b[39m, content)\n\u001b[1;32m      9\u001b[0m \u001b[38;5;28;01mfinally\u001b[39;00m:\n\u001b[0;32m---> 10\u001b[0m     \u001b[43mfile\u001b[49m\u001b[38;5;241m.\u001b[39mclose()\n",
      "\u001b[0;31mNameError\u001b[0m: name 'file' is not defined"
     ]
    }
   ],
   "source": [
    "# Example of finally are:\n",
    "try:\n",
    "    file = open(\"example.txt\", \"r\")\n",
    "    content = file.read()\n",
    "except FileNotFoundError:\n",
    "    print(\"File not found.\")\n",
    "else:\n",
    "    print(\"File content:\", content)\n",
    "finally:\n",
    "    file.close()\n"
   ]
  },
  {
   "cell_type": "markdown",
   "id": "8fa1041f-eeaa-48d3-9323-6be1e2dc720c",
   "metadata": {},
   "source": [
    "### 3. raise:\n",
    "* The \"raise\" statement is used to manually raise an exception in your code. You can use it to create custom exceptions or raise built-in exceptions under specific conditions."
   ]
  },
  {
   "cell_type": "code",
   "execution_count": 17,
   "id": "6fd0fec8-aaba-4543-b161-a1ab93ba002e",
   "metadata": {},
   "outputs": [
    {
     "name": "stdout",
     "output_type": "stream",
     "text": [
      "Error: Division by zero is not allowed.\n"
     ]
    }
   ],
   "source": [
    "#Examples of raise are:\n",
    "def divide(x, y):\n",
    "    if y == 0:\n",
    "        raise ValueError(\"Division by zero is not allowed.\")\n",
    "    return x / y\n",
    "\n",
    "try:\n",
    "    result = divide(10, 0)\n",
    "except ValueError as e:\n",
    "    print(\"Error:\", e)\n",
    "else:\n",
    "    print(\"Result:\", result)\n"
   ]
  },
  {
   "cell_type": "markdown",
   "id": "0ab49eb4-1ffa-49cf-adf7-c5fe26a43403",
   "metadata": {},
   "source": [
    "# Q5. What are Custom Exceptions in python? Why do we need Custom Exceptions? Explain with an example.\n",
    "\n",
    "### ans\n",
    "* Custom exceptions, also known as \"user-defined exceptions\" are exceptions that we create in Python to represent specific error conditions that are not adequately covered by built-in exceptions. we might need custom exceptions when we want to provide more meaningful and specific error messages or when we want to group related errors together under a common exception hierarchy."
   ]
  },
  {
   "cell_type": "code",
   "execution_count": 19,
   "id": "4b283139-c69b-45f7-88f7-4d492319bfb7",
   "metadata": {},
   "outputs": [],
   "source": [
    "# Create our own exception:\n",
    "class validateage(Exception) : \n",
    "    def __init__(self, msg) :\n",
    "        self.msg = msg"
   ]
  },
  {
   "cell_type": "markdown",
   "id": "3b3b9d3d-159a-42f8-a591-fbf10573a149",
   "metadata": {},
   "source": [
    "* we need Custom Exceptions because of:\n",
    "  1. Clarity: Custom exceptions can make our code more readable and self-explanatory by providing descriptive names for specific error situations. This can help other developers (and yourself) understand the intent of your code and how to handle errors.\n",
    "\n",
    "  2. Hierarchy: Custom exceptions allow us to create a hierarchy of exceptions. we can define a base exception class and then derive more specific exception classes from it. This can help us handle exceptions at different levels of granularity.\n",
    "\n",
    "  3. Consistency: Custom exceptions allow us to maintain consistency in our error-handling approach across our codebase. we can ensure that related errors are handled in a consistent manner.\n",
    "  \n",
    "Examples are given below:"
   ]
  },
  {
   "cell_type": "code",
   "execution_count": 22,
   "id": "eb3d905f-92e1-41ba-9d9f-0756cd7ad055",
   "metadata": {},
   "outputs": [],
   "source": [
    "# Create my own function:\n",
    "def validate_age(age) : \n",
    "    if age < 0 : \n",
    "        raise validateage(\"age should not be lesser then zero \" )\n",
    "    elif age > 200 : \n",
    "        raise validateage(\"age is too high \" )\n",
    "        \n",
    "    else :\n",
    "        print(\"age is valid\" )"
   ]
  },
  {
   "cell_type": "code",
   "execution_count": 23,
   "id": "67d6e39a-65d9-4b6e-bc04-21bf719d1e40",
   "metadata": {},
   "outputs": [
    {
     "name": "stdin",
     "output_type": "stream",
     "text": [
      "enter your age -54\n"
     ]
    },
    {
     "name": "stdout",
     "output_type": "stream",
     "text": [
      "age should not be lesser then zero \n"
     ]
    }
   ],
   "source": [
    "#now write a code:\n",
    "try : \n",
    "    age = int(input(\"enter your age\"))\n",
    "    validate_age(age)\n",
    "except validateage as e : \n",
    "    print(e)"
   ]
  },
  {
   "cell_type": "markdown",
   "id": "a84b77ae-e66d-4a8e-be88-288824e8e9a6",
   "metadata": {},
   "source": [
    "# Q6. Create a custom exception class. Use this class to handle an exception.\n",
    "\n",
    "### ans"
   ]
  },
  {
   "cell_type": "code",
   "execution_count": 24,
   "id": "a03a8386-5581-405d-9628-f9184b21a640",
   "metadata": {},
   "outputs": [
    {
     "name": "stdout",
     "output_type": "stream",
     "text": [
      "Custom Error: Division by zero is not allowed.\n"
     ]
    }
   ],
   "source": [
    "# Define a custom exception class\n",
    "class MyCustomError(Exception):\n",
    "    def __init__(self, msg):\n",
    "        self.msg = msg\n",
    "        \n",
    "\n",
    "# Function that raises the custom exception\n",
    "def divide(x, y):\n",
    "    if y == 0:\n",
    "        raise MyCustomError(\"Division by zero is not allowed.\")\n",
    "    return x / y\n",
    "\n",
    "try:\n",
    "    result = divide(10, 0)  # This will raise MyCustomError\n",
    "except MyCustomError as e:\n",
    "    print(\"Custom Error:\", e)\n",
    "else:\n",
    "    print(\"Result:\", result)\n"
   ]
  },
  {
   "cell_type": "markdown",
   "id": "d52e10c4-3dd7-4fad-955a-774f12b43e77",
   "metadata": {},
   "source": [
    "\n",
    "In this example:\n",
    "\n",
    "* We define a custom exception class called \"MyCustomError\", which inherits from the base Exception class. The \"__init__\" method accepts a custom error message and sets it as an instance variable.\n",
    "\n",
    "* The divide function raises the custom exception \"MyCustomError\" when attempting to divide by zero.\n",
    "\n",
    "* Inside the try block, we call the divide function with arguments that trigger the custom exception.\n",
    "\n",
    "* The except block catches the custom exception and prints the custom error message: \"Custom Error: Division by zero is not allowed.\""
   ]
  },
  {
   "cell_type": "code",
   "execution_count": null,
   "id": "470b008b-5664-4821-a635-a5795beb7294",
   "metadata": {},
   "outputs": [],
   "source": []
  }
 ],
 "metadata": {
  "kernelspec": {
   "display_name": "Python 3 (ipykernel)",
   "language": "python",
   "name": "python3"
  },
  "language_info": {
   "codemirror_mode": {
    "name": "ipython",
    "version": 3
   },
   "file_extension": ".py",
   "mimetype": "text/x-python",
   "name": "python",
   "nbconvert_exporter": "python",
   "pygments_lexer": "ipython3",
   "version": "3.10.8"
  }
 },
 "nbformat": 4,
 "nbformat_minor": 5
}
