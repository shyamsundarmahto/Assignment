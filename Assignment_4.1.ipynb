{
 "cells": [
  {
   "cell_type": "markdown",
   "id": "662bc6f6-656f-4c6c-8bc6-285252689456",
   "metadata": {},
   "source": [
    "# Q1. Explain Class and Object with respect to Object-Oriented Programming. Give a suitable example.\n",
    "\n",
    "### ans \n",
    "\n",
    "* A class is a blueprint or templete for creating objects. It defines attributes(data) and methods(function) that the object of class will have. Ex: Car, Animal, Human Beings\n",
    "    \n",
    "* An object is an instance of a class. It encapsulates both data and code.\n",
    "    \n",
    "    Ex:"
   ]
  },
  {
   "cell_type": "code",
   "execution_count": 12,
   "id": "9885cb5a-3250-4f37-82c9-1d1cfc422d4d",
   "metadata": {},
   "outputs": [],
   "source": [
    "# The suitable examples of class and object are:\n",
    "\n",
    "class pwskills1: # Here class is pwskills1\n",
    "    def __init__(self, phone_number, email_id, student_id):\n",
    "        self.phone_number=phone_number\n",
    "        self.email_id=email_id\n",
    "        self.student_id=student_id\n",
    "        \n",
    "    def return_student_details(self):  # Here object is return_student_details\n",
    "        return self.phone_number, self.email_id, self.student_id"
   ]
  },
  {
   "cell_type": "code",
   "execution_count": 13,
   "id": "a0f70c5c-ad95-4f0e-b40a-301686fef591",
   "metadata": {},
   "outputs": [],
   "source": [
    "shyam=pwskills1(8757410256,\"shyam@gmail.com\", 1001)"
   ]
  },
  {
   "cell_type": "code",
   "execution_count": 14,
   "id": "d3257e77-7999-4c45-8de0-9a45f584e24c",
   "metadata": {},
   "outputs": [
    {
     "data": {
      "text/plain": [
       "8757410256"
      ]
     },
     "execution_count": 14,
     "metadata": {},
     "output_type": "execute_result"
    }
   ],
   "source": [
    "shyam.phone_number"
   ]
  },
  {
   "cell_type": "code",
   "execution_count": 15,
   "id": "b49791a5-fd0a-4275-9fcf-42812f7adaca",
   "metadata": {},
   "outputs": [
    {
     "data": {
      "text/plain": [
       "(8757410256, 'shyam@gmail.com', 1001)"
      ]
     },
     "execution_count": 15,
     "metadata": {},
     "output_type": "execute_result"
    }
   ],
   "source": [
    "shyam.return_student_details()"
   ]
  },
  {
   "cell_type": "markdown",
   "id": "f4912e85-1f6f-47b6-8247-d179df5ca778",
   "metadata": {},
   "source": [
    "# Q2. Name the four pillars of OOPs.\n",
    "### ans\n",
    "\n",
    "The four pillars of Object Oriented Programming(OOP) are:\n",
    "\n",
    "* Encapsulation: The practice of bundling data (attributes) and methods (functions) that operate on that data into a single     unit(class). It allows us to hide internal implementation details of an object and expose only the necessay interface. \n",
    "\n",
    "* Abstraction: The abstraction is a fundamental concept in programming and software enginnering that involves hiding complex     implementation details and showing only the essential features of an objects.\n",
    "\n",
    "* Inheritance: It enables a new class to take attributes and methods from an existing class. Inheritance promotes code           reusability and facilitates the organization of classes into a logical hierarchy.\n",
    "\n",
    "* Polymorphism: Polymorphism means \"many forms\" and refers to the ability of different classes to be treated as instances of a   common superclass. This is achieved through method overiding and method overloading.\n",
    "\n",
    "  * Method overiding: Redefining a method in a subclass to provide a specific implementation.\n",
    "  * Method overloading: The ability to define multiple methods with the same name but different parameters."
   ]
  },
  {
   "cell_type": "markdown",
   "id": "8e60d752-b824-4eda-9308-2d5386666ba1",
   "metadata": {},
   "source": [
    "# Q3. Explain why the __init__() function is used. Give a suitable example.\n",
    "\n",
    "### ans\n",
    "\n",
    "In OOP's, The __init__() function is a special method, also known as the constructor, that is used to initialize the      attributes (properties) of an object when it is created from a class. It is automatically called when an object is  instantiated, allowing you to set initial values for the object's attributes.\n",
    "\n",
    "Why the __init__() function is used:\n",
    "\n",
    "* Attribute Initialization: When we create an object from a class, we often want to provide initial values for its               attributes. The __init__() method allows us to define these initial values, ensuring that every object created from the       class starts with the specified attribute values.\n",
    "\n",
    "* Custom Initialization Logic: Sometimes, we need to perform certain actions or calculations when an object is created. The     __init__() method gives us flexibility to include custom logic that runs during object instantiation. This can be             helpful for setting up the object's state or performing any necessary preparations.\n",
    "\n",
    "* Ensuring Consistency: By using the __init__() method, we can ensure that objects are always created in a consistent and       valid state. This can help prevent unexpected behavior and errors later in your program.\n",
    "\n",
    "  Example to illustrate the use of the __init__() method are:"
   ]
  },
  {
   "cell_type": "code",
   "execution_count": 30,
   "id": "f2812c9a-9efb-4508-888a-5f5703001833",
   "metadata": {},
   "outputs": [],
   "source": [
    "class person():\n",
    "    def __init__(self, name, age, phone_number, email_id):\n",
    "        self.name = name\n",
    "        self.age = age\n",
    "        self.phone_number=phone_number\n",
    "        self.email_id=email_id\n",
    "\n",
    "    def introduce(self):\n",
    "        return self.name, self.age, self.phone_number, self.email_id\n",
    "    "
   ]
  },
  {
   "cell_type": "code",
   "execution_count": 31,
   "id": "20786d9a-226d-4fd8-ba5d-fa8cdbd31cc1",
   "metadata": {},
   "outputs": [],
   "source": [
    "sundar=person('shyam',24,8757410256,'shyam@gmail.com')"
   ]
  },
  {
   "cell_type": "code",
   "execution_count": 32,
   "id": "826f94c5-fd61-4a6d-9adc-1cf4d6eddb07",
   "metadata": {},
   "outputs": [
    {
     "data": {
      "text/plain": [
       "'shyam@gmail.com'"
      ]
     },
     "execution_count": 32,
     "metadata": {},
     "output_type": "execute_result"
    }
   ],
   "source": [
    "sundar.email_id"
   ]
  },
  {
   "cell_type": "code",
   "execution_count": 33,
   "id": "33d7da86-4f17-40c1-976e-380f688c8d05",
   "metadata": {},
   "outputs": [
    {
     "data": {
      "text/plain": [
       "('shyam', 24, 8757410256, 'shyam@gmail.com')"
      ]
     },
     "execution_count": 33,
     "metadata": {},
     "output_type": "execute_result"
    }
   ],
   "source": [
    "sundar.introduce()"
   ]
  },
  {
   "cell_type": "markdown",
   "id": "86fdcec3-4f15-4e66-86b5-bd21febe569e",
   "metadata": {},
   "source": [
    "# Q4. Why self is used in OOPs?\n",
    "\n",
    "### ans \n",
    "\n",
    "In OOP's, \" self \" is a convention used to refer to the instance of the class that a method is being called on. It is a reference to the object itself and is passed as the first parameter to instance methods within the class.\n",
    "\n",
    "self is used in OOP's because:\n",
    "\n",
    "* Accessing Instance Attributes: Within a class, we define attributes that hold data relevant to instances of that class.       To access these attributes and use their values, we need a way to refer to the specific instance. The self parameter           allows us to access instance attributes by attaching it to the attribute name.\n",
    "\n",
    "* Modifying Instance Attributes: If we want to change the values of instance attributes, we need a way to specify which         instance's attributes to modify. By using self, we can directly modify the attributes of the object the method is called       on.\n",
    "\n",
    "* Invoking Instance Methods: OOP's involves defining methods that perform actions related to the class's objects. When we       call an instance method, we need to specify the object on which the method should operate. self allows you to call other       methods and access attributes within the same instance."
   ]
  },
  {
   "cell_type": "markdown",
   "id": "2f4fa761-a308-4d96-b341-e1811e31a55f",
   "metadata": {},
   "source": [
    "# Q5. What is inheritance? Give an example for each type of inheritance.\n",
    "\n",
    "### ans\n",
    " \n",
    "Inheritance enables a new class to take attributes and methods from an existing class. Inheritance promotes code             reusability and facilitates the organization of classes into a logical hierarchy.\n",
    "    \n",
    "* Single Inheritance: Single inheritance involves a class inheriting from a single base class. The subclass inherits all the     attributes and methods of the base class.\n",
    "  Ex"
   ]
  },
  {
   "cell_type": "code",
   "execution_count": 34,
   "id": "5983bfe2-17e7-412c-be3c-a74a0b739241",
   "metadata": {},
   "outputs": [],
   "source": [
    "class animal:\n",
    "    def speak(self):\n",
    "        print(\" This is my lovely dog.\")\n",
    "\n",
    "class dog(animal):  # Dog is a subclass of Animal\n",
    "    pass\n",
    "    "
   ]
  },
  {
   "cell_type": "code",
   "execution_count": 35,
   "id": "02924d3f-60a7-4906-bb27-c0fd30960427",
   "metadata": {},
   "outputs": [
    {
     "name": "stdout",
     "output_type": "stream",
     "text": [
      " This is my lovely dog.\n"
     ]
    }
   ],
   "source": [
    "pet=dog()\n",
    "pet.speak()"
   ]
  },
  {
   "cell_type": "markdown",
   "id": "d6255070-1546-41ba-a16a-a480e329cc34",
   "metadata": {},
   "source": [
    "* Multiple Inheritance: Multiple inheritance allows a class to inherit from multiple base classes. The subclass inherits         attributes and methods from all the base classes."
   ]
  },
  {
   "cell_type": "code",
   "execution_count": 36,
   "id": "1a4c4893-d0ec-4c89-a8a9-fa503a63f61f",
   "metadata": {},
   "outputs": [],
   "source": [
    "class bird:\n",
    "    def speak1(self):\n",
    "        print(\" This is my bird.\")\n",
    "\n",
    "class mammal:\n",
    "    def speak2(self):\n",
    "        print(\" This is my mammal.\")\n",
    "\n",
    "class bat(bird, mammal):  # bat inherits from both bird and mammal\n",
    "    pass\n"
   ]
  },
  {
   "cell_type": "code",
   "execution_count": 37,
   "id": "ab7ddc0c-8c8e-482e-b465-d0590a39560d",
   "metadata": {},
   "outputs": [
    {
     "name": "stdout",
     "output_type": "stream",
     "text": [
      " This is my bird.\n",
      " This is my mammal.\n"
     ]
    }
   ],
   "source": [
    "liv_bird=bat()\n",
    "liv_bird.speak1()\n",
    "liv_bird.speak2()"
   ]
  },
  {
   "cell_type": "markdown",
   "id": "93a572a3-e7d4-4c1d-9cff-24639b90bc9f",
   "metadata": {},
   "source": [
    "* Multilevel Inheritance: Multilevel inheritance involves a chain of classes where a subclass inherits from another subclass."
   ]
  },
  {
   "cell_type": "code",
   "execution_count": 38,
   "id": "43b5a0ed-b116-4b30-9664-3f0bfdae3a02",
   "metadata": {},
   "outputs": [],
   "source": [
    "class vehicle:\n",
    "    def move1(self):\n",
    "        print(\"This is my vehicle.\")\n",
    "\n",
    "class car(vehicle):\n",
    "    def move2(self):\n",
    "        print(\"This is my car.\")\n",
    "\n",
    "class electric_car(car):  # ElectricCar is a subclass of Car\n",
    "    def move3(self):\n",
    "        print(\"This is my electric car.\")\n"
   ]
  },
  {
   "cell_type": "code",
   "execution_count": 39,
   "id": "ce63bb5f-d04c-4405-ae72-1908089a11c8",
   "metadata": {},
   "outputs": [
    {
     "name": "stdout",
     "output_type": "stream",
     "text": [
      "This is my vehicle.\n",
      "This is my car.\n",
      "This is my electric car.\n"
     ]
    }
   ],
   "source": [
    "obj=electric_car()\n",
    "obj.move1()\n",
    "obj.move2()\n",
    "obj.move3()"
   ]
  },
  {
   "cell_type": "markdown",
   "id": "2fc472e6-1d3c-4e57-a852-d5e0100bcc18",
   "metadata": {},
   "source": [
    "* Hierarchical Inheritance: Hierarchical inheritance involves multiple subclasses inheriting from a single base class."
   ]
  },
  {
   "cell_type": "code",
   "execution_count": 40,
   "id": "1fd3a506-3c09-4cc9-a666-0b9dedb44dab",
   "metadata": {},
   "outputs": [],
   "source": [
    "# Base class\n",
    "class Parent:\n",
    "    def func1(self):\n",
    "        print(\"This is in parent class.\")\n",
    "        \n",
    "class Child1(Parent):   # Derived class1\n",
    "    def func2(self):\n",
    "        print(\"This is in child 1.\")\n",
    "        \n",
    "class Child2(Parent):   # Derivied class2\n",
    "    def func3(self):\n",
    "        print(\"This is in child 2.\")\n"
   ]
  },
  {
   "cell_type": "code",
   "execution_count": 41,
   "id": "59ba90c7-6a68-43d1-9e9d-3a1e94f89d24",
   "metadata": {},
   "outputs": [
    {
     "name": "stdout",
     "output_type": "stream",
     "text": [
      "This is in parent class.\n",
      "This is in child 1.\n",
      "This is in parent class.\n",
      "This is in child 2.\n"
     ]
    }
   ],
   "source": [
    "obj_1 = Child1()\n",
    "obj_2 = Child2()\n",
    "obj_1.func1()\n",
    "obj_1.func2()\n",
    "obj_2.func1()\n",
    "obj_2.func3()"
   ]
  },
  {
   "cell_type": "markdown",
   "id": "b28b4981-701e-4fc1-918a-b4bcf9aeb718",
   "metadata": {},
   "source": [
    "* Hybrid Inheritance: It refers to a class that combines features of different types of inheritance.It's a class that exhibits a mix of single inheritance, multiple inheritance, and possibly other types of inheritance patterns as well. This allows developers to create complex class hierarchies that leverage the benefits of multiple inheritance types."
   ]
  },
  {
   "cell_type": "code",
   "execution_count": 42,
   "id": "e27fba59-f544-4729-bb36-f6097b053a48",
   "metadata": {},
   "outputs": [
    {
     "name": "stdout",
     "output_type": "stream",
     "text": [
      "This function is in school.\n",
      "This function is in student 1. \n"
     ]
    }
   ],
   "source": [
    "class School:\n",
    "    def func1(self):\n",
    "        print(\"This function is in school.\")\n",
    " \n",
    " \n",
    "class Student1(School):\n",
    "    def func2(self):\n",
    "        print(\"This function is in student 1. \")\n",
    " \n",
    " \n",
    "class Student2(School):\n",
    "    def func3(self):\n",
    "        print(\"This function is in student 2.\")\n",
    " \n",
    " \n",
    "class Student3(Student1, School):\n",
    "    def func4(self):\n",
    "        print(\"This function is in student 3.\")\n",
    "        \n",
    "# Driver's code\n",
    "object = Student3()\n",
    "object.func1()\n",
    "object.func2()"
   ]
  }
 ],
 "metadata": {
  "kernelspec": {
   "display_name": "Python 3 (ipykernel)",
   "language": "python",
   "name": "python3"
  },
  "language_info": {
   "codemirror_mode": {
    "name": "ipython",
    "version": 3
   },
   "file_extension": ".py",
   "mimetype": "text/x-python",
   "name": "python",
   "nbconvert_exporter": "python",
   "pygments_lexer": "ipython3",
   "version": "3.10.8"
  }
 },
 "nbformat": 4,
 "nbformat_minor": 5
}
