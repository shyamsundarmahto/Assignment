{
 "cells": [
  {
   "cell_type": "markdown",
   "id": "fdd78c51-17ef-4bea-b200-c85ee14bbda4",
   "metadata": {},
   "source": [
    "# Q1. What is multithreading in python? why is it used? Name the module used to handle threads in python.\n",
    "\n",
    "### ans\n",
    "\n",
    "Multithreading in Python refers to the concurrent execution of multiple threads within a single Python process. Threads are lightweight sub-processes that share the same memory space and can execute independently. Python provides a built-in module called threading to handle threads.\n",
    "\n",
    "* Multithreading is Used because of:\n",
    "\n",
    "  * Concurrency: Multithreading is used to achieve concurrency, allowing multiple tasks to run concurrently, making efficient use of CPU time, especially in I/O-bound operations.\n",
    "  \n",
    "  * Responsiveness: It helps maintain the responsiveness of programs by preventing blocking when waiting for resources like I/O operations or user input.\n",
    "  \n",
    "  * Parallelism: While Python's Global Interpreter Lock (GIL) restricts true parallelism, multithreading can still be used to some extent to perform parallel tasks, particularly when tasks are not heavily CPU-bound.\n",
    "\n",
    "  * Task Decomposition: Multithreading allows us to break complex tasks into smaller, more manageable threads, making it easier to design and implement concurrent programs.\n",
    "\n",
    "* The module used to handle threads in python are:\n",
    "\n",
    "The module used to handle threads in Python is called \"threading\". It provides classes and functions to create, manage, and synchronize threads. We can use the \"threading.Thread\" class to create and start threads, and the module also offers synchronization mechanisms like locks, semaphores, and condition variables to ensure safe thread interactions.\n",
    "  \n",
    "\n"
   ]
  },
  {
   "cell_type": "markdown",
   "id": "a07e74fe-26c7-4f46-b399-3499c414492b",
   "metadata": {},
   "source": [
    "# Q2. Why threading module used? write the use of the following functions:\n",
    "### I. activeCount()\n",
    "### II. currentThread()\n",
    "### III. enumerate()\n",
    "\n",
    "### ans\n",
    "\n",
    "The threading module in Python is used for creating, managing, and synchronizing threads in a multi-threaded program. It provides a way to work with threads, allowing us to create concurrent programs that can execute multiple tasks simultaneously. \n",
    "\n",
    "\n",
    "The uses of the mentioned functions:\n",
    "\n",
    "### I. activeCount():\n",
    "* \"threading.activeCount()\" returns the number of Thread objects currently alive (i.e., not terminated) and managed by the threading module.\n",
    "* Use it to keep track of how many threads are currently running in your program. This can be helpful for monitoring thread activity and diagnosing issues related to thread management."
   ]
  },
  {
   "cell_type": "code",
   "execution_count": 17,
   "id": "97b67a0c-0e01-4724-8d39-04f8a1d343c2",
   "metadata": {},
   "outputs": [
    {
     "name": "stdout",
     "output_type": "stream",
     "text": [
      "Number of active threads: 8\n"
     ]
    },
    {
     "name": "stderr",
     "output_type": "stream",
     "text": [
      "/tmp/ipykernel_77/489237109.py:13: DeprecationWarning: activeCount() is deprecated, use active_count() instead\n",
      "  active_threads = threading.activeCount()\n"
     ]
    }
   ],
   "source": [
    "# Example of activeCount() are:\n",
    "\n",
    "import threading\n",
    "\n",
    "# Create and start multiple threads\n",
    "threads = []\n",
    "for _ in range(5):\n",
    "    thread = threading.Thread(target=worker_function)\n",
    "    thread.start()\n",
    "    threads.append(thread)\n",
    "\n",
    "# Check how many threads are currently active\n",
    "active_threads = threading.activeCount()\n",
    "print(f\"Number of active threads: {active_threads}\")\n"
   ]
  },
  {
   "cell_type": "markdown",
   "id": "8f391253-8584-4379-b7b4-c3524b169bd5",
   "metadata": {},
   "source": [
    "### II. currentThread():\n",
    "* \"threading.currentThread()\" returns the Thread object representing the currently executing thread.\n",
    "* Use it to obtain information about the thread currently executing the code, such as its name, ID, or other attributes."
   ]
  },
  {
   "cell_type": "code",
   "execution_count": 18,
   "id": "8b26a4f3-6e19-4a6d-a97c-2c92873ed420",
   "metadata": {},
   "outputs": [
    {
     "name": "stdout",
     "output_type": "stream",
     "text": [
      "Thread Name: Thread-44 (print_thread_info)\n",
      "Thread ID: 140550841816640\n"
     ]
    },
    {
     "name": "stderr",
     "output_type": "stream",
     "text": [
      "/tmp/ipykernel_77/744644612.py:6: DeprecationWarning: currentThread() is deprecated, use current_thread() instead\n",
      "  current_thread = threading.currentThread()\n"
     ]
    }
   ],
   "source": [
    "# Examples of currentThread() are:\n",
    "\n",
    "import threading\n",
    "\n",
    "def print_thread_info():\n",
    "    current_thread = threading.currentThread()\n",
    "    print(f\"Thread Name: {current_thread.name}\")\n",
    "    print(f\"Thread ID: {current_thread.ident}\")\n",
    "\n",
    "# Create and start a thread\n",
    "thread = threading.Thread(target=print_thread_info)\n",
    "thread.start()\n"
   ]
  },
  {
   "cell_type": "markdown",
   "id": "c0691d70-64b7-4339-97f2-683340960131",
   "metadata": {},
   "source": [
    "### III. enumerate():\n",
    "\n",
    "* \"threading.enumerate()\" returns a list of all Thread objects currently alive and managed by the threading module.\n",
    "* Use it to obtain a list of all active threads, which can be helpful for inspecting and managing the threads in our program."
   ]
  },
  {
   "cell_type": "code",
   "execution_count": 19,
   "id": "092c566f-ccd4-42f3-96e3-ba9a106f1a0f",
   "metadata": {},
   "outputs": [
    {
     "name": "stdout",
     "output_type": "stream",
     "text": [
      "Thread Name: MainThread\n",
      "Thread Name: IOPub\n",
      "Thread Name: Heartbeat\n",
      "Thread Name: Thread-3 (_watch_pipe_fd)\n",
      "Thread Name: Thread-4 (_watch_pipe_fd)\n",
      "Thread Name: Control\n",
      "Thread Name: IPythonHistorySavingThread\n",
      "Thread Name: Thread-2\n"
     ]
    }
   ],
   "source": [
    "# Examples of enumerate() are:\n",
    "\n",
    "import threading\n",
    "\n",
    "def worker_function():\n",
    "    pass\n",
    "\n",
    "# Create and start multiple threads\n",
    "threads = []\n",
    "for _ in range(3):\n",
    "    thread = threading.Thread(target=worker_function)\n",
    "    thread.start()\n",
    "    threads.append(thread)\n",
    "\n",
    "# Enumerate and print all active threads\n",
    "active_threads = threading.enumerate()\n",
    "for thread in active_threads:\n",
    "    print(f\"Thread Name: {thread.name}\")\n"
   ]
  },
  {
   "cell_type": "markdown",
   "id": "6c4a6a17-ab19-43d0-aa23-3ff30d8578d8",
   "metadata": {},
   "source": [
    "# Q3. Explain the following functions:\n",
    "### I. run() \n",
    "### II. start()\n",
    "### III. join()\n",
    "### IV. isAlive()\n",
    "\n",
    "### ans\n",
    "\n",
    "### I. run():\n",
    "* The run() function is not a built-in function but rather a method that we can define in a class that extends a thread class (e.g., \"threading.Thread\"). It represents the code that a thread should execute when it's started using the start() method. \n",
    "* We override the run() method with our custom logic to specify what the thread should do when it runs. When we call start() on a thread object, it internally calls the run() method to begin executing the thread's logic concurrently."
   ]
  },
  {
   "cell_type": "code",
   "execution_count": 20,
   "id": "0c5a6fc5-30f8-4fed-9efd-7cb4a219e1c0",
   "metadata": {},
   "outputs": [
    {
     "name": "stdout",
     "output_type": "stream",
     "text": [
      "Thread is running\n"
     ]
    }
   ],
   "source": [
    "# Example:\n",
    "\n",
    "import threading\n",
    "\n",
    "class MyThread(threading.Thread):\n",
    "    def run(self):\n",
    "        # Custom logic for the thread to execute\n",
    "        print(\"Thread is running\")\n",
    "\n",
    "# Create and start a thread\n",
    "my_thread = MyThread()\n",
    "my_thread.start()\n"
   ]
  },
  {
   "cell_type": "markdown",
   "id": "e60d2f19-ee4b-40b4-9d84-014acd9aa8fa",
   "metadata": {},
   "source": [
    "### II. start():\n",
    "* The start() function is used to initiate the execution of a thread. When we call start() on a thread object, it schedules the thread for execution and invokes the run() method of that thread in a separate, concurrent context. It does not execute the run() method immediately; instead, it manages the thread's lifecycle and calls run() when resources are available. \n",
    "* It's essential to use start() to start a thread because calling run() directly would execute the thread's logic in the same context as the caller, without achieving concurrency.\n"
   ]
  },
  {
   "cell_type": "code",
   "execution_count": 21,
   "id": "b0df6e20-265b-486f-af57-b6d8a858d10d",
   "metadata": {},
   "outputs": [
    {
     "name": "stdout",
     "output_type": "stream",
     "text": [
      "Worker thread is working\n"
     ]
    }
   ],
   "source": [
    "# Example:\n",
    "\n",
    "import threading\n",
    "\n",
    "def worker():\n",
    "    print(\"Worker thread is working\")\n",
    "\n",
    "# Create a thread\n",
    "worker_thread = threading.Thread(target=worker)\n",
    "\n",
    "# Start the thread\n",
    "worker_thread.start()\n"
   ]
  },
  {
   "cell_type": "markdown",
   "id": "6cc3f49f-742b-487d-b068-5b3f2e530324",
   "metadata": {},
   "source": [
    "### III. join():\n",
    "\n",
    "The join() function is used to wait for a thread to finish its execution before proceeding with the rest of the program. When we call join() on a thread object, the calling thread (usually the main program thread) will pause and wait for the specified thread to complete its execution. This is often used when we need to ensure that certain threads have completed their work before continuing, particularly for synchronization and coordination between threads."
   ]
  },
  {
   "cell_type": "code",
   "execution_count": 22,
   "id": "7691345b-0a6b-4038-89c6-926077be271a",
   "metadata": {},
   "outputs": [
    {
     "name": "stdout",
     "output_type": "stream",
     "text": [
      "Worker thread is working\n",
      "Main thread continues\n"
     ]
    }
   ],
   "source": [
    "# Example:\n",
    "\n",
    "import threading\n",
    "\n",
    "def worker():\n",
    "    print(\"Worker thread is working\")\n",
    "\n",
    "# Create a thread\n",
    "worker_thread = threading.Thread(target=worker)\n",
    "\n",
    "# Start the thread\n",
    "worker_thread.start()\n",
    "\n",
    "# Wait for the thread to finish\n",
    "worker_thread.join()\n",
    "\n",
    "print(\"Main thread continues\")\n"
   ]
  },
  {
   "cell_type": "markdown",
   "id": "47d13083-80eb-4d3f-9f1a-7ed91c42a6c7",
   "metadata": {},
   "source": [
    "### IV. isAlive():\n",
    "The isAlive() function is a method available in threading libraries (e.g., \"threading.Thread\") that allows us to check whether a thread is currently active or running. When we call isAlive() on a thread object, it returns True if the thread is currently executing its code (i.e., it's alive), and False otherwise. This function can be useful for checking the status of threads and making decisions based on their current state. "
   ]
  },
  {
   "cell_type": "code",
   "execution_count": 23,
   "id": "eefcdfc5-b682-4dd8-93f9-9e9f238baf39",
   "metadata": {},
   "outputs": [
    {
     "name": "stdout",
     "output_type": "stream",
     "text": [
      "Thread is working...\n"
     ]
    },
    {
     "ename": "AttributeError",
     "evalue": "'Thread' object has no attribute 'isAlive'",
     "output_type": "error",
     "traceback": [
      "\u001b[0;31m---------------------------------------------------------------------------\u001b[0m",
      "\u001b[0;31mAttributeError\u001b[0m                            Traceback (most recent call last)",
      "Cell \u001b[0;32mIn[23], line 18\u001b[0m\n\u001b[1;32m     15\u001b[0m my_thread\u001b[38;5;241m.\u001b[39mstart()\n\u001b[1;32m     17\u001b[0m \u001b[38;5;66;03m# Check if the thread is alive\u001b[39;00m\n\u001b[0;32m---> 18\u001b[0m \u001b[38;5;28;01mif\u001b[39;00m \u001b[43mmy_thread\u001b[49m\u001b[38;5;241;43m.\u001b[39;49m\u001b[43misAlive\u001b[49m():\n\u001b[1;32m     19\u001b[0m     \u001b[38;5;28mprint\u001b[39m(\u001b[38;5;124m\"\u001b[39m\u001b[38;5;124mThread is still running.\u001b[39m\u001b[38;5;124m\"\u001b[39m)\n\u001b[1;32m     20\u001b[0m \u001b[38;5;28;01melse\u001b[39;00m:\n",
      "\u001b[0;31mAttributeError\u001b[0m: 'Thread' object has no attribute 'isAlive'"
     ]
    },
    {
     "name": "stdout",
     "output_type": "stream",
     "text": [
      "Thread has completed its work.\n"
     ]
    }
   ],
   "source": [
    "# Example:\n",
    "\n",
    "import threading\n",
    "import time\n",
    "\n",
    "def my_function():\n",
    "    print(\"Thread is working...\")\n",
    "    time.sleep(2)\n",
    "    print(\"Thread has completed its work.\")\n",
    "\n",
    "# Create a thread\n",
    "my_thread = threading.Thread(target=my_function)\n",
    "\n",
    "# Start the thread\n",
    "my_thread.start()\n",
    "\n",
    "# Check if the thread is alive\n",
    "if my_thread.isAlive():\n",
    "    print(\"Thread is still running.\")\n",
    "else:\n",
    "    print(\"Thread has finished.\")\n",
    "\n",
    "# Wait for the thread to finish\n",
    "my_thread.join()\n",
    "\n",
    "# Check again if the thread is alive\n",
    "if my_thread.isAlive():\n",
    "    print(\"Thread is still running.\")\n",
    "else:\n",
    "    print(\"Thread has finished.\")\n"
   ]
  },
  {
   "cell_type": "markdown",
   "id": "be278180-8fcc-4452-ad59-d9ce51bb485f",
   "metadata": {},
   "source": [
    "# Q4. Write a python program to create two threads. Thread one must print the list of squares and thread two must print the list of cubes.\n",
    "\n",
    "### ans\n",
    "\n",
    "we create two threads to print the list of squares and cubes using Python's threading module are:\n"
   ]
  },
  {
   "cell_type": "code",
   "execution_count": 8,
   "id": "7b9418e7-94e1-4af6-87e8-b0a76d02f17c",
   "metadata": {},
   "outputs": [
    {
     "name": "stdout",
     "output_type": "stream",
     "text": [
      "Square of 1 is 1\n",
      "Square of 2 is 4\n",
      "Square of 3 is 9\n",
      "Square of 4 is 16\n",
      "Square of 5 is 25\n",
      "Cube of 1 is 1\n",
      "Cube of 2 is 8\n",
      "Cube of 3 is 27\n",
      "Cube of 4 is 64\n",
      "Cube of 5 is 125\n",
      "Both threads have finished\n"
     ]
    }
   ],
   "source": [
    "import threading\n",
    "\n",
    "# Function to print squares of numbers\n",
    "def print_squares():\n",
    "    for i in range(1, 6):\n",
    "        print(f\"Square of {i} is {i * i}\")\n",
    "\n",
    "# Function to print cubes of numbers\n",
    "def print_cubes():\n",
    "    for i in range(1, 6):\n",
    "        print(f\"Cube of {i} is {i * i * i}\")\n",
    "\n",
    "# Create two thread objects\n",
    "thread1 = threading.Thread(target=print_squares)\n",
    "thread2 = threading.Thread(target=print_cubes)\n",
    "\n",
    "# Start both threads\n",
    "thread1.start()\n",
    "thread2.start()\n",
    "\n",
    "# Wait for both threads to finish\n",
    "thread1.join()\n",
    "thread2.join()\n",
    "\n",
    "print(\"Both threads have finished\")\n"
   ]
  },
  {
   "cell_type": "markdown",
   "id": "f1a8ce90-06f3-4b34-9320-151518e84828",
   "metadata": {},
   "source": [
    "# Q5. State advantages and disadvantages of multithreading.\n",
    "\n",
    "### ans\n",
    "\n",
    "The advantages and disadvantages of multithreading are:\n",
    "\n",
    "### Advantages of Multithreading:\n",
    "\n",
    "* I. Improved Performance: One of the primary benefits of multithreading is improved performance. It allows us to take advantage of multiple CPU cores and parallelize tasks, leading to faster execution of certain operations. This is especially beneficial in tasks that involve I/O operations or tasks that can be divided into smaller subtasks.\n",
    "\n",
    "* II. Responsiveness: Multithreading can enhance the responsiveness of an application. For example, in graphical user interfaces (GUIs), a separate thread can handle user input and keep the application responsive while another thread performs time-consuming computations in the background.\n",
    "\n",
    "* III. Resource Sharing: Threads within the same process share memory space, which can be useful for efficient communication and data sharing between threads without the overhead of inter-process communication (IPC). This can lead to efficient resource utilization.\n",
    "\n",
    "* IV. Simplified Programming: In some cases, multithreading can simplify program design. Rather than dealing with complex asynchronous code, we can use threads to divide tasks into logical units, which can make the code easier to understand and maintain.\n",
    "\n",
    "* V. Modularity: Threads can be used to create modular and reusable components. we can encapsulate functionality within threads, making it easier to develope and maintain complex systems.\n",
    "\n",
    "### Disadvantages of Multithreading:\n",
    "\n",
    "* I. Complexity: Multithreaded programming can be significantly more complex than single-threaded programming. Managing thread synchronization, avoiding race conditions, and debugging multithreaded code can be challenging and error-prone.\n",
    "\n",
    "* II. Concurrency Issues: Multithreading introduces concurrency issues such as race conditions, deadlocks, and priority inversion. These issues can be difficult to identify and resolve, leading to unpredictable behavior in the application.\n",
    "\n",
    "* III. Resource Management: Threads consume system resources, including memory and CPU time. Creating too many threads can lead to resource exhaustion and decreased performance. Properly managing the number of threads is crucial.\n",
    "\n",
    "* IV. Debugging and Testing: Debugging multithreaded applications can be more challenging than debugging single-threaded ones. Issues may be difficult to reproduce consistently, making it harder to identify and fix bugs.\n",
    "\n",
    "* V. Compatibility: Not all applications benefit from multithreading. Some tasks are inherently single-threaded or may not scale well with additional threads. In such cases, the overhead of managing threads can outweigh the performance benefits.\n",
    "\n",
    "* VIPortability: Multithreading behavior can vary between different operating systems and programming languages. Code that works on one platform may need adjustments for compatibility on another."
   ]
  },
  {
   "cell_type": "markdown",
   "id": "bbe556cb-2ff3-4fa0-9db4-dff56c82b673",
   "metadata": {},
   "source": [
    "# Q6. Explain deadlocks and race conditions.\n",
    "\n",
    "### ans\n",
    "\n",
    "### Deadlock:\n",
    "* A deadlock happens when two or more processes or threads are waiting for something from each other, but none of them is willing to give up what they have. As a result, they're all stuck and can't make progress.\n",
    "  * Example:\n",
    "    * Imagine two cars approach a narrow bridge from opposite directions, but only one car can pass at a time. If both drivers refuse to back up and insist on going forward, they both get stuck and can't move the traffic is deadlocked.\n",
    "    \n",
    "    \n",
    "* Key characteristics of a deadlock are:\n",
    "\n",
    "  * Mutual Exclusion: Threads or processes must request exclusive access to resources. Only one thread can hold the resource at a time.\n",
    "\n",
    "  * Hold and Wait: A thread can hold one resource while waiting for another. It doesn't release the resources it already holds, causing a potential deadlock situation.\n",
    "\n",
    "  * No Preemption: Resources cannot be forcibly taken away from a thread. They are only released voluntarily.\n",
    "\n",
    "  * Circular Wait: There is a circular chain of two or more threads, each waiting for a resource held by the next thread in the chain.\n",
    " \n",
    "### Race Condition:\n",
    "* A race condition occurs when two or more threads or processes try to access and modify shared data simultaneously without proper coordination. This can lead to unpredictable outcomes, just like the dropped chocolate, where the final result depends on who gets there first.\n",
    "  * Examples:\n",
    "    * Think of a race condition as a scenario where two kids try to grab the last piece of chocolate at the same time. They both reach for it without talking to each other, and it ends up on the floor because they collided.\n",
    "    \n",
    "    \n",
    "* Key characteristics of a race condition:\n",
    "\n",
    "  * Shared Data: Multiple threads access and potentially modify the same shared data or resources.\n",
    "\n",
    "  * Lack of Synchronization: Threads do not use synchronization mechanisms (like locks or semaphores) to coordinate their access to the shared data.\n",
    "\n",
    "  * Timing-Dependent: The outcome of a race condition depends on the relative timing of thread execution and the interleaving of their operations."
   ]
  }
 ],
 "metadata": {
  "kernelspec": {
   "display_name": "Python 3 (ipykernel)",
   "language": "python",
   "name": "python3"
  },
  "language_info": {
   "codemirror_mode": {
    "name": "ipython",
    "version": 3
   },
   "file_extension": ".py",
   "mimetype": "text/x-python",
   "name": "python",
   "nbconvert_exporter": "python",
   "pygments_lexer": "ipython3",
   "version": "3.10.8"
  }
 },
 "nbformat": 4,
 "nbformat_minor": 5
}
