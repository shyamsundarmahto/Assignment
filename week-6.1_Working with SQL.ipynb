{
 "cells": [
  {
   "cell_type": "code",
   "execution_count": null,
   "id": "f562af5a-9de2-446b-ae54-257ca5bc5d41",
   "metadata": {},
   "outputs": [],
   "source": []
  },
  {
   "cell_type": "code",
   "execution_count": null,
   "id": "ee4fe3bf-b0fc-4795-9b49-0952879de04f",
   "metadata": {},
   "outputs": [],
   "source": []
  }
 ],
 "metadata": {
  "kernelspec": {
   "display_name": "",
   "name": ""
  },
  "language_info": {
   "name": ""
  }
 },
 "nbformat": 4,
 "nbformat_minor": 5
}
