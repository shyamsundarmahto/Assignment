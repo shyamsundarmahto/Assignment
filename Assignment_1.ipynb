{
 "cells": [
  {
   "cell_type": "markdown",
   "id": "f2fd9414-5f8b-4567-81e3-61c4004254dd",
   "metadata": {},
   "source": [
    "# Assignment_1"
   ]
  },
  {
   "cell_type": "markdown",
   "id": "28e6958d-68c1-4762-8dea-2e54ad3e444d",
   "metadata": {},
   "source": [
    "Q1. Create one variable containing following type of data:\n",
    "\n",
    "(i)\tstring\n",
    "\n",
    "(ii) list\n",
    "\n",
    "(iii) float\n",
    "\n",
    "(iv) tuple\n",
    "\n",
    "### Answer"
   ]
  },
  {
   "cell_type": "code",
   "execution_count": 3,
   "id": "3701366b-c3b2-4e4d-806b-af9a1d284fb3",
   "metadata": {},
   "outputs": [],
   "source": [
    "a_1=[\"apple\",\"shyam\",[\"physisc\",2,45],45.23,89.25,(\"skills\",65,1001)]"
   ]
  },
  {
   "cell_type": "markdown",
   "id": "8930da69-21cc-4485-9cb7-e433e1ad08a6",
   "metadata": {},
   "source": [
    "Q2. Given are some following variables containing data:\n",
    "\n",
    "(i)\tvar1 = ‘ ‘\n",
    "\n",
    "(ii) var2 = ‘[ DS , ML , Python]’\n",
    "\n",
    "(iii) var3 = [ ‘DS’ , ’ML’ , ‘Python’ ]\n",
    "\n",
    "(iv) var4 = 1.\n",
    "\n",
    "What will be the data type of the above given variable\n",
    "\n",
    "### Answer\n",
    "i.  string\n",
    "\n",
    "ii. string\n",
    "\n",
    "iii. list\n",
    "\n",
    "iv. float"
   ]
  },
  {
   "cell_type": "markdown",
   "id": "82f9d355-a036-4394-87bd-21b7c74ff9a2",
   "metadata": {},
   "source": [
    "Q3. Explain the use of the following operators using an example:\n",
    "\n",
    "(i)\t/\n",
    "\n",
    "(ii) % \n",
    "\n",
    "(iii) //\n",
    "\n",
    "(iv) **\n",
    "\n",
    "### Answer"
   ]
  },
  {
   "cell_type": "code",
   "execution_count": 15,
   "id": "71633506-7f6d-4c6a-9d36-8d89dff1beab",
   "metadata": {},
   "outputs": [
    {
     "data": {
      "text/plain": [
       "27.5"
      ]
     },
     "execution_count": 15,
     "metadata": {},
     "output_type": "execute_result"
    }
   ],
   "source": [
    "'''(i) / (Division operator) are used for dividing purpose and gives floating point result.'''\n",
    "# ex:\n",
    "55/2"
   ]
  },
  {
   "cell_type": "code",
   "execution_count": 16,
   "id": "6fb86f95-7e82-464b-9bf6-f9260559091c",
   "metadata": {},
   "outputs": [
    {
     "data": {
      "text/plain": [
       "1"
      ]
     },
     "execution_count": 16,
     "metadata": {},
     "output_type": "execute_result"
    }
   ],
   "source": [
    "'''(ii) % (Modulus operator) are used for finding modulus of number(i.e,remainder)'''\n",
    "#ex:\n",
    "55%2"
   ]
  },
  {
   "cell_type": "code",
   "execution_count": 17,
   "id": "6f2563b9-a113-4981-8869-56047ad4d993",
   "metadata": {},
   "outputs": [
    {
     "data": {
      "text/plain": [
       "27"
      ]
     },
     "execution_count": 17,
     "metadata": {},
     "output_type": "execute_result"
    }
   ],
   "source": [
    "'''(iii) // (Floor Division operator) are used to round the result down to nearest \n",
    "            whole number'''\n",
    "#ex:\n",
    "55//2"
   ]
  },
  {
   "cell_type": "code",
   "execution_count": 32,
   "id": "3078b0bf-a91e-422b-b1ec-0031f89c16e7",
   "metadata": {},
   "outputs": [
    {
     "data": {
      "text/plain": [
       "3025"
      ]
     },
     "execution_count": 32,
     "metadata": {},
     "output_type": "execute_result"
    }
   ],
   "source": [
    "'''(iv) ** (Exponentiation or square operator) are used for finding square root of any number.'''\n",
    "#ex:\n",
    "55**2"
   ]
  },
  {
   "cell_type": "markdown",
   "id": "2c7399b1-3458-43bf-ad12-c22151343667",
   "metadata": {},
   "source": [
    "Q4. Create a list of length 10 of your choice containing multiple types of data. Using       for loop print the element and its data type."
   ]
  },
  {
   "cell_type": "code",
   "execution_count": 20,
   "id": "499d432b-17f9-4e41-a648-e0c528418116",
   "metadata": {},
   "outputs": [
    {
     "name": "stdout",
     "output_type": "stream",
     "text": [
      "<class 'int'> 45\n",
      "<class 'int'> 78\n",
      "<class 'int'> 56\n",
      "<class 'str'> Apple\n",
      "<class 'str'> Engineer\n",
      "<class 'str'> skill\n",
      "<class 'float'> 45.2\n",
      "<class 'float'> 56.2\n",
      "<class 'tuple'> (4, 8)\n",
      "<class 'list'> ['name', 1, 5]\n"
     ]
    }
   ],
   "source": [
    "a_2=[45,78,56,\"Apple\",\"Engineer\",\"skill\",45.2,56.2,(4,8),[\"name\",1,5]]\n",
    "for i in a_2:\n",
    "    print(type(i),i)"
   ]
  },
  {
   "cell_type": "markdown",
   "id": "27963770-7838-4358-a83c-14d71f47a925",
   "metadata": {},
   "source": [
    "Q5. Using a while loop, verify if the number A is purely divisible by number B and if so     then how many times it can be divisible."
   ]
  },
  {
   "cell_type": "code",
   "execution_count": 1,
   "id": "55e6b5f4-3298-478d-995f-a640e701ad4c",
   "metadata": {},
   "outputs": [
    {
     "name": "stdin",
     "output_type": "stream",
     "text": [
      "Enter the value of a:  5\n",
      "Enter the value of b:  2\n"
     ]
    },
    {
     "name": "stdout",
     "output_type": "stream",
     "text": [
      "10 not divisible by 2.\n"
     ]
    }
   ],
   "source": [
    "a = int(input(\"Enter the value of a: \"))\n",
    "b = int(input(\"Enter the value of b: \"))\n",
    "\n",
    "count = 0\n",
    "while a % b == 0:\n",
    "    a = a // b  \n",
    "    count += 1\n",
    "if a==0:    \n",
    "    print(f\"{a*b} divisible by {b} exactly {count} times.\")\n",
    "else:\n",
    "    print(f\"{a*b} not divisible by {b}.\")"
   ]
  },
  {
   "cell_type": "markdown",
   "id": "8ab80b4c-6f6b-4f22-858d-607c9e945853",
   "metadata": {},
   "source": [
    "Q6. Create a list containing 25 int type data. Using for loop and if-else condition print     if the element is divisible by 3 or not."
   ]
  },
  {
   "cell_type": "code",
   "execution_count": 6,
   "id": "80efe3f3-8c87-43e5-9194-08e1ba2e2850",
   "metadata": {},
   "outputs": [
    {
     "name": "stdout",
     "output_type": "stream",
     "text": [
      "1 Number is not divisible by 3\n",
      "2 Number is not divisible by 3\n",
      "3 Number is divisible by 3\n",
      "4 Number is not divisible by 3\n",
      "5 Number is not divisible by 3\n",
      "6 Number is divisible by 3\n",
      "7 Number is not divisible by 3\n",
      "8 Number is not divisible by 3\n",
      "9 Number is divisible by 3\n",
      "10 Number is not divisible by 3\n",
      "11 Number is not divisible by 3\n",
      "12 Number is divisible by 3\n",
      "13 Number is not divisible by 3\n",
      "14 Number is not divisible by 3\n",
      "15 Number is divisible by 3\n",
      "16 Number is not divisible by 3\n",
      "17 Number is not divisible by 3\n",
      "18 Number is divisible by 3\n",
      "19 Number is not divisible by 3\n",
      "20 Number is not divisible by 3\n",
      "21 Number is divisible by 3\n",
      "22 Number is not divisible by 3\n",
      "23 Number is not divisible by 3\n",
      "24 Number is divisible by 3\n",
      "25 Number is not divisible by 3\n"
     ]
    }
   ],
   "source": [
    "b=[1,2,3,4,5,6,7,8,9,10,11,12,13,14,15,16,17,18,19,20,21,22,23,24,25]\n",
    "for i in b:\n",
    "    if i%3==0:\n",
    "        print(f\"{i} Number is divisible by 3\")\n",
    "    else:\n",
    "        print(f\"{i} Number is not divisible by 3\")\n",
    "    "
   ]
  },
  {
   "cell_type": "markdown",
   "id": "31d770b8-e4cc-498f-a4c0-a0227a8af9cd",
   "metadata": {},
   "source": [
    "Q7. What do you understand about mutable and immutable data types? Give examples for both     showing this property.\n",
    "\n",
    "### Answer\n",
    "\n",
    "Mutable data type: If you are able to change something at particular indexes for a     collection or a datatype, this is called mutability.\n",
    "    \n",
    "List are Mutable."
   ]
  },
  {
   "cell_type": "code",
   "execution_count": 30,
   "id": "63b3290c-475e-4e60-92a4-65db5c756838",
   "metadata": {},
   "outputs": [],
   "source": [
    "# Ex:\n",
    "a_3=[1,2,3,4,5,\"skills\"]\n",
    "a_3[2]=100\n",
    "a_3[5]=\"shyam\""
   ]
  },
  {
   "cell_type": "code",
   "execution_count": 28,
   "id": "be16a296-fb9f-4945-97bb-9a91282bd555",
   "metadata": {},
   "outputs": [
    {
     "data": {
      "text/plain": [
       "[1, 2, 100, 4, 5, 'shyam']"
      ]
     },
     "execution_count": 28,
     "metadata": {},
     "output_type": "execute_result"
    }
   ],
   "source": [
    "a_3"
   ]
  },
  {
   "cell_type": "markdown",
   "id": "f9cc3f6d-5e38-484f-9a0e-7f9256e2461f",
   "metadata": {},
   "source": [
    "Immutable data type: Here i am trying to replace [2]=\"d\" i.e., intead of \"k\" i would like to replce with \"d\" but i am not able to do it, so this is called Immutability. \n",
    "\n",
    "String are Immutable."
   ]
  },
  {
   "cell_type": "code",
   "execution_count": 31,
   "id": "a7829b42-80b6-4c20-b982-352b9fc3c587",
   "metadata": {},
   "outputs": [
    {
     "ename": "TypeError",
     "evalue": "'str' object does not support item assignment",
     "output_type": "error",
     "traceback": [
      "\u001b[0;31m---------------------------------------------------------------------------\u001b[0m",
      "\u001b[0;31mTypeError\u001b[0m                                 Traceback (most recent call last)",
      "Cell \u001b[0;32mIn[31], line 3\u001b[0m\n\u001b[1;32m      1\u001b[0m \u001b[38;5;66;03m# Ex:\u001b[39;00m\n\u001b[1;32m      2\u001b[0m a_4\u001b[38;5;241m=\u001b[39m\u001b[38;5;124m\"\u001b[39m\u001b[38;5;124mskills\u001b[39m\u001b[38;5;124m\"\u001b[39m\n\u001b[0;32m----> 3\u001b[0m \u001b[43ma_4\u001b[49m\u001b[43m[\u001b[49m\u001b[38;5;241;43m2\u001b[39;49m\u001b[43m]\u001b[49m\u001b[38;5;241m=\u001b[39m\u001b[38;5;124m\"\u001b[39m\u001b[38;5;124md\u001b[39m\u001b[38;5;124m\"\u001b[39m\n",
      "\u001b[0;31mTypeError\u001b[0m: 'str' object does not support item assignment"
     ]
    }
   ],
   "source": [
    "# Ex:\n",
    "a_4=\"skills\"\n",
    "a_4[2]=\"d\""
   ]
  }
 ],
 "metadata": {
  "kernelspec": {
   "display_name": "Python 3 (ipykernel)",
   "language": "python",
   "name": "python3"
  },
  "language_info": {
   "codemirror_mode": {
    "name": "ipython",
    "version": 3
   },
   "file_extension": ".py",
   "mimetype": "text/x-python",
   "name": "python",
   "nbconvert_exporter": "python",
   "pygments_lexer": "ipython3",
   "version": "3.10.8"
  }
 },
 "nbformat": 4,
 "nbformat_minor": 5
}
